{
  "cells": [
    {
      "cell_type": "code",
      "source": [
        "from google.colab import drive\n",
        "drive.mount('/content/drive')"
      ],
      "metadata": {
        "id": "rVuI_fH6VVns",
        "collapsed": true,
        "colab": {
          "base_uri": "https://localhost:8080/"
        },
        "outputId": "cdbf0838-fc80-4cb0-8f4f-935020e3c1e4"
      },
      "id": "rVuI_fH6VVns",
      "execution_count": 2,
      "outputs": [
        {
          "output_type": "stream",
          "name": "stdout",
          "text": [
            "Drive already mounted at /content/drive; to attempt to forcibly remount, call drive.mount(\"/content/drive\", force_remount=True).\n"
          ]
        }
      ]
    },
    {
      "cell_type": "code",
      "execution_count": 3,
      "metadata": {
        "id": "62Rv7xgXm5ab",
        "collapsed": true,
        "colab": {
          "base_uri": "https://localhost:8080/"
        },
        "outputId": "172c4b93-3eca-4733-d290-5f514dbe4cbd"
      },
      "outputs": [
        {
          "output_type": "stream",
          "name": "stderr",
          "text": [
            "[nltk_data] Downloading package stopwords to /root/nltk_data...\n",
            "[nltk_data]   Unzipping corpora/stopwords.zip.\n"
          ]
        }
      ],
      "source": [
        "#pandas library is used for manipulation in data\n",
        "import pandas as pd\n",
        "#CSV is used to read tabular data\n",
        "import csv\n",
        "#sklearn is used for stastical modeling\n",
        "from sklearn.model_selection import train_test_split\n",
        "#it is used to see word patterns in text\n",
        "from textblob import TextBlob\n",
        "import re\n",
        "import nltk\n",
        "#tensorflow library is used to bundle together\n",
        "import tensorflow as tf\n",
        "#used for analysis and comparision\n",
        "from tensorflow.keras.models import Sequential\n",
        "#it isused to process in bothe the directions ,improves understanding\n",
        "from tensorflow.keras.layers import Embedding, Bidirectional, LSTM, Dense, Dropout\n",
        "# adam is used to improve its accuracy and speed\n",
        "from tensorflow.keras.optimizers import Adam\n",
        "#transform a list of number of samples sequences into a 2d array of shape\n",
        "from tensorflow.keras.preprocessing.sequence import pad_sequences\n",
        "# used for the conversion of categorical variable into numerical format\n",
        "from sklearn.preprocessing import LabelEncoder\n",
        "nltk.download('stopwords')\n",
        "#for better understanding loading the model\n",
        "from tensorflow.keras.models import load_model\n",
        "#to maintain best performance of model\n",
        "from keras.callbacks import EarlyStopping, ModelCheckpoint\n",
        "#implement mathematical operations on array\n",
        "import numpy as np\n",
        "#do graph comparisions for better understanding of data\n",
        "import seaborn as sns\n",
        "#helps to plot graphs\n",
        "import matplotlib.pyplot as plt\n",
        "#used for various curve plot,great visualization\n",
        "from sklearn.metrics import accuracy_score, roc_curve, auc,confusion_matrix, classification_report,precision_score, recall_score, f1_score\n"
      ],
      "id": "62Rv7xgXm5ab"
    },
    {
      "cell_type": "code",
      "execution_count": 4,
      "metadata": {
        "id": "dafba555"
      },
      "outputs": [],
      "source": [
        "#accesing and reading the file\n",
        "amazonData = pd.read_csv(\"/content/drive/MyDrive/RiyaSingh/amazon_reviews_us_Mobile_Electronics_v1_00 (1).tsv\", delimiter='\\t', quoting=csv.QUOTE_NONE)"
      ],
      "id": "dafba555"
    },
    {
      "cell_type": "code",
      "source": [
        "#accesing and reading the file\n",
        "#amazonData = pd.read_csv(\"/content/amazon_reviews_us_Mobile_Electronics_v1_00 (1).tsv\", delimiter='\\t', quoting=csv.QUOTE_NONE)"
      ],
      "metadata": {
        "id": "QjWVVjRhXmJe"
      },
      "id": "QjWVVjRhXmJe",
      "execution_count": null,
      "outputs": []
    },
    {
      "cell_type": "code",
      "execution_count": 6,
      "metadata": {
        "id": "4b824b0f",
        "collapsed": true,
        "colab": {
          "base_uri": "https://localhost:8080/",
          "height": 600
        },
        "outputId": "f60bd261-e9a7-42c2-d4e9-3342e3b604cb"
      },
      "outputs": [
        {
          "output_type": "execute_result",
          "data": {
            "text/plain": [
              "  marketplace  customer_id       review_id  product_id  product_parent  \\\n",
              "0          US     20422322   R8MEA6IGAHO0B  B00MC4CED8       217304173   \n",
              "1          US     40835037  R31LOQ8JGLPRLK  B00OQMFG1Q       137313254   \n",
              "2          US     51469641  R2Y0MM9YE6OP3P  B00QERR5CY        82850235   \n",
              "3          US      4332923   RRB9C05HDOD4O  B00QUFTPV4       221169481   \n",
              "4          US     44855305  R26I2RI1GFV8QG  B0067XVNTG       563475445   \n",
              "\n",
              "                                       product_title    product_category  \\\n",
              "0                               BlackVue DR600GW-PMP  Mobile_Electronics   \n",
              "1  GENSSI GSM / GPS Two Way Smart Phone Car Alarm...  Mobile_Electronics   \n",
              "2                    iXCC Multi pack Lightning cable  Mobile_Electronics   \n",
              "3  abcGoodefg® FBI Covert Acoustic Tube Earpiece ...  Mobile_Electronics   \n",
              "4  Generic Car Dashboard Video Camera Vehicle Vid...  Mobile_Electronics   \n",
              "\n",
              "   star_rating  helpful_votes  total_votes vine verified_purchase  \\\n",
              "0            5              0            0    N                 Y   \n",
              "1            5              0            1    N                 Y   \n",
              "2            5              0            0    N                 Y   \n",
              "3            4              0            0    N                 Y   \n",
              "4            2              0            0    N                 Y   \n",
              "\n",
              "                                     review_headline  \\\n",
              "0                                        Very Happy!   \n",
              "1                                          five star   \n",
              "2                                       great cables   \n",
              "3  Work very well but couldn't get used to not he...   \n",
              "4                         Cameras has battery issues   \n",
              "\n",
              "                                         review_body review_date  \n",
              "0  As advertised. Everything works perfectly, I'm...  2015-08-31  \n",
              "1                                         it's great  2015-08-31  \n",
              "2  These work great and fit my life proof case fo...  2015-08-31  \n",
              "3  Work very well but couldn't get used to not he...  2015-08-31  \n",
              "4  Be careful with these products, I have bought ...  2015-08-31  "
            ],
            "text/html": [
              "\n",
              "\n",
              "  <div id=\"df-1090391c-8fc7-4d79-817b-ec2841804019\">\n",
              "    <div class=\"colab-df-container\">\n",
              "      <div>\n",
              "<style scoped>\n",
              "    .dataframe tbody tr th:only-of-type {\n",
              "        vertical-align: middle;\n",
              "    }\n",
              "\n",
              "    .dataframe tbody tr th {\n",
              "        vertical-align: top;\n",
              "    }\n",
              "\n",
              "    .dataframe thead th {\n",
              "        text-align: right;\n",
              "    }\n",
              "</style>\n",
              "<table border=\"1\" class=\"dataframe\">\n",
              "  <thead>\n",
              "    <tr style=\"text-align: right;\">\n",
              "      <th></th>\n",
              "      <th>marketplace</th>\n",
              "      <th>customer_id</th>\n",
              "      <th>review_id</th>\n",
              "      <th>product_id</th>\n",
              "      <th>product_parent</th>\n",
              "      <th>product_title</th>\n",
              "      <th>product_category</th>\n",
              "      <th>star_rating</th>\n",
              "      <th>helpful_votes</th>\n",
              "      <th>total_votes</th>\n",
              "      <th>vine</th>\n",
              "      <th>verified_purchase</th>\n",
              "      <th>review_headline</th>\n",
              "      <th>review_body</th>\n",
              "      <th>review_date</th>\n",
              "    </tr>\n",
              "  </thead>\n",
              "  <tbody>\n",
              "    <tr>\n",
              "      <th>0</th>\n",
              "      <td>US</td>\n",
              "      <td>20422322</td>\n",
              "      <td>R8MEA6IGAHO0B</td>\n",
              "      <td>B00MC4CED8</td>\n",
              "      <td>217304173</td>\n",
              "      <td>BlackVue DR600GW-PMP</td>\n",
              "      <td>Mobile_Electronics</td>\n",
              "      <td>5</td>\n",
              "      <td>0</td>\n",
              "      <td>0</td>\n",
              "      <td>N</td>\n",
              "      <td>Y</td>\n",
              "      <td>Very Happy!</td>\n",
              "      <td>As advertised. Everything works perfectly, I'm...</td>\n",
              "      <td>2015-08-31</td>\n",
              "    </tr>\n",
              "    <tr>\n",
              "      <th>1</th>\n",
              "      <td>US</td>\n",
              "      <td>40835037</td>\n",
              "      <td>R31LOQ8JGLPRLK</td>\n",
              "      <td>B00OQMFG1Q</td>\n",
              "      <td>137313254</td>\n",
              "      <td>GENSSI GSM / GPS Two Way Smart Phone Car Alarm...</td>\n",
              "      <td>Mobile_Electronics</td>\n",
              "      <td>5</td>\n",
              "      <td>0</td>\n",
              "      <td>1</td>\n",
              "      <td>N</td>\n",
              "      <td>Y</td>\n",
              "      <td>five star</td>\n",
              "      <td>it's great</td>\n",
              "      <td>2015-08-31</td>\n",
              "    </tr>\n",
              "    <tr>\n",
              "      <th>2</th>\n",
              "      <td>US</td>\n",
              "      <td>51469641</td>\n",
              "      <td>R2Y0MM9YE6OP3P</td>\n",
              "      <td>B00QERR5CY</td>\n",
              "      <td>82850235</td>\n",
              "      <td>iXCC Multi pack Lightning cable</td>\n",
              "      <td>Mobile_Electronics</td>\n",
              "      <td>5</td>\n",
              "      <td>0</td>\n",
              "      <td>0</td>\n",
              "      <td>N</td>\n",
              "      <td>Y</td>\n",
              "      <td>great cables</td>\n",
              "      <td>These work great and fit my life proof case fo...</td>\n",
              "      <td>2015-08-31</td>\n",
              "    </tr>\n",
              "    <tr>\n",
              "      <th>3</th>\n",
              "      <td>US</td>\n",
              "      <td>4332923</td>\n",
              "      <td>RRB9C05HDOD4O</td>\n",
              "      <td>B00QUFTPV4</td>\n",
              "      <td>221169481</td>\n",
              "      <td>abcGoodefg® FBI Covert Acoustic Tube Earpiece ...</td>\n",
              "      <td>Mobile_Electronics</td>\n",
              "      <td>4</td>\n",
              "      <td>0</td>\n",
              "      <td>0</td>\n",
              "      <td>N</td>\n",
              "      <td>Y</td>\n",
              "      <td>Work very well but couldn't get used to not he...</td>\n",
              "      <td>Work very well but couldn't get used to not he...</td>\n",
              "      <td>2015-08-31</td>\n",
              "    </tr>\n",
              "    <tr>\n",
              "      <th>4</th>\n",
              "      <td>US</td>\n",
              "      <td>44855305</td>\n",
              "      <td>R26I2RI1GFV8QG</td>\n",
              "      <td>B0067XVNTG</td>\n",
              "      <td>563475445</td>\n",
              "      <td>Generic Car Dashboard Video Camera Vehicle Vid...</td>\n",
              "      <td>Mobile_Electronics</td>\n",
              "      <td>2</td>\n",
              "      <td>0</td>\n",
              "      <td>0</td>\n",
              "      <td>N</td>\n",
              "      <td>Y</td>\n",
              "      <td>Cameras has battery issues</td>\n",
              "      <td>Be careful with these products, I have bought ...</td>\n",
              "      <td>2015-08-31</td>\n",
              "    </tr>\n",
              "  </tbody>\n",
              "</table>\n",
              "</div>\n",
              "      <button class=\"colab-df-convert\" onclick=\"convertToInteractive('df-1090391c-8fc7-4d79-817b-ec2841804019')\"\n",
              "              title=\"Convert this dataframe to an interactive table.\"\n",
              "              style=\"display:none;\">\n",
              "\n",
              "  <svg xmlns=\"http://www.w3.org/2000/svg\" height=\"24px\"viewBox=\"0 0 24 24\"\n",
              "       width=\"24px\">\n",
              "    <path d=\"M0 0h24v24H0V0z\" fill=\"none\"/>\n",
              "    <path d=\"M18.56 5.44l.94 2.06.94-2.06 2.06-.94-2.06-.94-.94-2.06-.94 2.06-2.06.94zm-11 1L8.5 8.5l.94-2.06 2.06-.94-2.06-.94L8.5 2.5l-.94 2.06-2.06.94zm10 10l.94 2.06.94-2.06 2.06-.94-2.06-.94-.94-2.06-.94 2.06-2.06.94z\"/><path d=\"M17.41 7.96l-1.37-1.37c-.4-.4-.92-.59-1.43-.59-.52 0-1.04.2-1.43.59L10.3 9.45l-7.72 7.72c-.78.78-.78 2.05 0 2.83L4 21.41c.39.39.9.59 1.41.59.51 0 1.02-.2 1.41-.59l7.78-7.78 2.81-2.81c.8-.78.8-2.07 0-2.86zM5.41 20L4 18.59l7.72-7.72 1.47 1.35L5.41 20z\"/>\n",
              "  </svg>\n",
              "      </button>\n",
              "\n",
              "\n",
              "\n",
              "    <div id=\"df-1426e7cd-5bc5-4e20-b415-ae9500e06c6f\">\n",
              "      <button class=\"colab-df-quickchart\" onclick=\"quickchart('df-1426e7cd-5bc5-4e20-b415-ae9500e06c6f')\"\n",
              "              title=\"Suggest charts.\"\n",
              "              style=\"display:none;\">\n",
              "\n",
              "<svg xmlns=\"http://www.w3.org/2000/svg\" height=\"24px\"viewBox=\"0 0 24 24\"\n",
              "     width=\"24px\">\n",
              "    <g>\n",
              "        <path d=\"M19 3H5c-1.1 0-2 .9-2 2v14c0 1.1.9 2 2 2h14c1.1 0 2-.9 2-2V5c0-1.1-.9-2-2-2zM9 17H7v-7h2v7zm4 0h-2V7h2v10zm4 0h-2v-4h2v4z\"/>\n",
              "    </g>\n",
              "</svg>\n",
              "      </button>\n",
              "    </div>\n",
              "\n",
              "<style>\n",
              "  .colab-df-quickchart {\n",
              "    background-color: #E8F0FE;\n",
              "    border: none;\n",
              "    border-radius: 50%;\n",
              "    cursor: pointer;\n",
              "    display: none;\n",
              "    fill: #1967D2;\n",
              "    height: 32px;\n",
              "    padding: 0 0 0 0;\n",
              "    width: 32px;\n",
              "  }\n",
              "\n",
              "  .colab-df-quickchart:hover {\n",
              "    background-color: #E2EBFA;\n",
              "    box-shadow: 0px 1px 2px rgba(60, 64, 67, 0.3), 0px 1px 3px 1px rgba(60, 64, 67, 0.15);\n",
              "    fill: #174EA6;\n",
              "  }\n",
              "\n",
              "  [theme=dark] .colab-df-quickchart {\n",
              "    background-color: #3B4455;\n",
              "    fill: #D2E3FC;\n",
              "  }\n",
              "\n",
              "  [theme=dark] .colab-df-quickchart:hover {\n",
              "    background-color: #434B5C;\n",
              "    box-shadow: 0px 1px 3px 1px rgba(0, 0, 0, 0.15);\n",
              "    filter: drop-shadow(0px 1px 2px rgba(0, 0, 0, 0.3));\n",
              "    fill: #FFFFFF;\n",
              "  }\n",
              "</style>\n",
              "\n",
              "    <script>\n",
              "      async function quickchart(key) {\n",
              "        const containerElement = document.querySelector('#' + key);\n",
              "        const charts = await google.colab.kernel.invokeFunction(\n",
              "            'suggestCharts', [key], {});\n",
              "      }\n",
              "    </script>\n",
              "\n",
              "      <script>\n",
              "\n",
              "function displayQuickchartButton(domScope) {\n",
              "  let quickchartButtonEl =\n",
              "    domScope.querySelector('#df-1426e7cd-5bc5-4e20-b415-ae9500e06c6f button.colab-df-quickchart');\n",
              "  quickchartButtonEl.style.display =\n",
              "    google.colab.kernel.accessAllowed ? 'block' : 'none';\n",
              "}\n",
              "\n",
              "        displayQuickchartButton(document);\n",
              "      </script>\n",
              "      <style>\n",
              "    .colab-df-container {\n",
              "      display:flex;\n",
              "      flex-wrap:wrap;\n",
              "      gap: 12px;\n",
              "    }\n",
              "\n",
              "    .colab-df-convert {\n",
              "      background-color: #E8F0FE;\n",
              "      border: none;\n",
              "      border-radius: 50%;\n",
              "      cursor: pointer;\n",
              "      display: none;\n",
              "      fill: #1967D2;\n",
              "      height: 32px;\n",
              "      padding: 0 0 0 0;\n",
              "      width: 32px;\n",
              "    }\n",
              "\n",
              "    .colab-df-convert:hover {\n",
              "      background-color: #E2EBFA;\n",
              "      box-shadow: 0px 1px 2px rgba(60, 64, 67, 0.3), 0px 1px 3px 1px rgba(60, 64, 67, 0.15);\n",
              "      fill: #174EA6;\n",
              "    }\n",
              "\n",
              "    [theme=dark] .colab-df-convert {\n",
              "      background-color: #3B4455;\n",
              "      fill: #D2E3FC;\n",
              "    }\n",
              "\n",
              "    [theme=dark] .colab-df-convert:hover {\n",
              "      background-color: #434B5C;\n",
              "      box-shadow: 0px 1px 3px 1px rgba(0, 0, 0, 0.15);\n",
              "      filter: drop-shadow(0px 1px 2px rgba(0, 0, 0, 0.3));\n",
              "      fill: #FFFFFF;\n",
              "    }\n",
              "  </style>\n",
              "\n",
              "      <script>\n",
              "        const buttonEl =\n",
              "          document.querySelector('#df-1090391c-8fc7-4d79-817b-ec2841804019 button.colab-df-convert');\n",
              "        buttonEl.style.display =\n",
              "          google.colab.kernel.accessAllowed ? 'block' : 'none';\n",
              "\n",
              "        async function convertToInteractive(key) {\n",
              "          const element = document.querySelector('#df-1090391c-8fc7-4d79-817b-ec2841804019');\n",
              "          const dataTable =\n",
              "            await google.colab.kernel.invokeFunction('convertToInteractive',\n",
              "                                                     [key], {});\n",
              "          if (!dataTable) return;\n",
              "\n",
              "          const docLinkHtml = 'Like what you see? Visit the ' +\n",
              "            '<a target=\"_blank\" href=https://colab.research.google.com/notebooks/data_table.ipynb>data table notebook</a>'\n",
              "            + ' to learn more about interactive tables.';\n",
              "          element.innerHTML = '';\n",
              "          dataTable['output_type'] = 'display_data';\n",
              "          await google.colab.output.renderOutput(dataTable, element);\n",
              "          const docLink = document.createElement('div');\n",
              "          docLink.innerHTML = docLinkHtml;\n",
              "          element.appendChild(docLink);\n",
              "        }\n",
              "      </script>\n",
              "    </div>\n",
              "  </div>\n"
            ]
          },
          "metadata": {},
          "execution_count": 6
        }
      ],
      "source": [
        "amazonData.head(5)"
      ],
      "id": "4b824b0f"
    },
    {
      "cell_type": "code",
      "execution_count": 7,
      "metadata": {
        "id": "9064cc82",
        "collapsed": true,
        "colab": {
          "base_uri": "https://localhost:8080/"
        },
        "outputId": "a65a4f68-9c42-4ee5-984d-69a444c0af49"
      },
      "outputs": [
        {
          "output_type": "execute_result",
          "data": {
            "text/plain": [
              "marketplace          0\n",
              "customer_id          0\n",
              "review_id            0\n",
              "product_id           0\n",
              "product_parent       0\n",
              "product_title        0\n",
              "product_category     0\n",
              "star_rating          0\n",
              "helpful_votes        0\n",
              "total_votes          0\n",
              "vine                 0\n",
              "verified_purchase    0\n",
              "review_headline      2\n",
              "review_body          1\n",
              "review_date          0\n",
              "dtype: int64"
            ]
          },
          "metadata": {},
          "execution_count": 7
        }
      ],
      "source": [
        "amazonData.isnull().sum()"
      ],
      "id": "9064cc82"
    },
    {
      "cell_type": "code",
      "execution_count": 8,
      "metadata": {
        "id": "f9eea6e3",
        "collapsed": true,
        "colab": {
          "base_uri": "https://localhost:8080/",
          "height": 315
        },
        "outputId": "da334c4a-68b0-414b-b976-3f971890e211"
      },
      "outputs": [
        {
          "output_type": "execute_result",
          "data": {
            "text/plain": [
              "  marketplace  customer_id       review_id  product_id  product_parent  \\\n",
              "0          US     20422322   R8MEA6IGAHO0B  B00MC4CED8       217304173   \n",
              "1          US     40835037  R31LOQ8JGLPRLK  B00OQMFG1Q       137313254   \n",
              "\n",
              "                                       product_title    product_category  \\\n",
              "0                               BlackVue DR600GW-PMP  Mobile_Electronics   \n",
              "1  GENSSI GSM / GPS Two Way Smart Phone Car Alarm...  Mobile_Electronics   \n",
              "\n",
              "   star_rating  helpful_votes  total_votes vine verified_purchase  \\\n",
              "0            5              0            0    N                 Y   \n",
              "1            5              0            1    N                 Y   \n",
              "\n",
              "  review_headline                                        review_body  \\\n",
              "0     Very Happy!  As advertised. Everything works perfectly, I'm...   \n",
              "1       five star                                         it's great   \n",
              "\n",
              "  review_date  \n",
              "0  2015-08-31  \n",
              "1  2015-08-31  "
            ],
            "text/html": [
              "\n",
              "\n",
              "  <div id=\"df-8ac68d81-182d-4e41-813e-3fe1632d0a5e\">\n",
              "    <div class=\"colab-df-container\">\n",
              "      <div>\n",
              "<style scoped>\n",
              "    .dataframe tbody tr th:only-of-type {\n",
              "        vertical-align: middle;\n",
              "    }\n",
              "\n",
              "    .dataframe tbody tr th {\n",
              "        vertical-align: top;\n",
              "    }\n",
              "\n",
              "    .dataframe thead th {\n",
              "        text-align: right;\n",
              "    }\n",
              "</style>\n",
              "<table border=\"1\" class=\"dataframe\">\n",
              "  <thead>\n",
              "    <tr style=\"text-align: right;\">\n",
              "      <th></th>\n",
              "      <th>marketplace</th>\n",
              "      <th>customer_id</th>\n",
              "      <th>review_id</th>\n",
              "      <th>product_id</th>\n",
              "      <th>product_parent</th>\n",
              "      <th>product_title</th>\n",
              "      <th>product_category</th>\n",
              "      <th>star_rating</th>\n",
              "      <th>helpful_votes</th>\n",
              "      <th>total_votes</th>\n",
              "      <th>vine</th>\n",
              "      <th>verified_purchase</th>\n",
              "      <th>review_headline</th>\n",
              "      <th>review_body</th>\n",
              "      <th>review_date</th>\n",
              "    </tr>\n",
              "  </thead>\n",
              "  <tbody>\n",
              "    <tr>\n",
              "      <th>0</th>\n",
              "      <td>US</td>\n",
              "      <td>20422322</td>\n",
              "      <td>R8MEA6IGAHO0B</td>\n",
              "      <td>B00MC4CED8</td>\n",
              "      <td>217304173</td>\n",
              "      <td>BlackVue DR600GW-PMP</td>\n",
              "      <td>Mobile_Electronics</td>\n",
              "      <td>5</td>\n",
              "      <td>0</td>\n",
              "      <td>0</td>\n",
              "      <td>N</td>\n",
              "      <td>Y</td>\n",
              "      <td>Very Happy!</td>\n",
              "      <td>As advertised. Everything works perfectly, I'm...</td>\n",
              "      <td>2015-08-31</td>\n",
              "    </tr>\n",
              "    <tr>\n",
              "      <th>1</th>\n",
              "      <td>US</td>\n",
              "      <td>40835037</td>\n",
              "      <td>R31LOQ8JGLPRLK</td>\n",
              "      <td>B00OQMFG1Q</td>\n",
              "      <td>137313254</td>\n",
              "      <td>GENSSI GSM / GPS Two Way Smart Phone Car Alarm...</td>\n",
              "      <td>Mobile_Electronics</td>\n",
              "      <td>5</td>\n",
              "      <td>0</td>\n",
              "      <td>1</td>\n",
              "      <td>N</td>\n",
              "      <td>Y</td>\n",
              "      <td>five star</td>\n",
              "      <td>it's great</td>\n",
              "      <td>2015-08-31</td>\n",
              "    </tr>\n",
              "  </tbody>\n",
              "</table>\n",
              "</div>\n",
              "      <button class=\"colab-df-convert\" onclick=\"convertToInteractive('df-8ac68d81-182d-4e41-813e-3fe1632d0a5e')\"\n",
              "              title=\"Convert this dataframe to an interactive table.\"\n",
              "              style=\"display:none;\">\n",
              "\n",
              "  <svg xmlns=\"http://www.w3.org/2000/svg\" height=\"24px\"viewBox=\"0 0 24 24\"\n",
              "       width=\"24px\">\n",
              "    <path d=\"M0 0h24v24H0V0z\" fill=\"none\"/>\n",
              "    <path d=\"M18.56 5.44l.94 2.06.94-2.06 2.06-.94-2.06-.94-.94-2.06-.94 2.06-2.06.94zm-11 1L8.5 8.5l.94-2.06 2.06-.94-2.06-.94L8.5 2.5l-.94 2.06-2.06.94zm10 10l.94 2.06.94-2.06 2.06-.94-2.06-.94-.94-2.06-.94 2.06-2.06.94z\"/><path d=\"M17.41 7.96l-1.37-1.37c-.4-.4-.92-.59-1.43-.59-.52 0-1.04.2-1.43.59L10.3 9.45l-7.72 7.72c-.78.78-.78 2.05 0 2.83L4 21.41c.39.39.9.59 1.41.59.51 0 1.02-.2 1.41-.59l7.78-7.78 2.81-2.81c.8-.78.8-2.07 0-2.86zM5.41 20L4 18.59l7.72-7.72 1.47 1.35L5.41 20z\"/>\n",
              "  </svg>\n",
              "      </button>\n",
              "\n",
              "\n",
              "\n",
              "    <div id=\"df-565916a9-b9d9-4a93-b27c-3eb1c5e83c91\">\n",
              "      <button class=\"colab-df-quickchart\" onclick=\"quickchart('df-565916a9-b9d9-4a93-b27c-3eb1c5e83c91')\"\n",
              "              title=\"Suggest charts.\"\n",
              "              style=\"display:none;\">\n",
              "\n",
              "<svg xmlns=\"http://www.w3.org/2000/svg\" height=\"24px\"viewBox=\"0 0 24 24\"\n",
              "     width=\"24px\">\n",
              "    <g>\n",
              "        <path d=\"M19 3H5c-1.1 0-2 .9-2 2v14c0 1.1.9 2 2 2h14c1.1 0 2-.9 2-2V5c0-1.1-.9-2-2-2zM9 17H7v-7h2v7zm4 0h-2V7h2v10zm4 0h-2v-4h2v4z\"/>\n",
              "    </g>\n",
              "</svg>\n",
              "      </button>\n",
              "    </div>\n",
              "\n",
              "<style>\n",
              "  .colab-df-quickchart {\n",
              "    background-color: #E8F0FE;\n",
              "    border: none;\n",
              "    border-radius: 50%;\n",
              "    cursor: pointer;\n",
              "    display: none;\n",
              "    fill: #1967D2;\n",
              "    height: 32px;\n",
              "    padding: 0 0 0 0;\n",
              "    width: 32px;\n",
              "  }\n",
              "\n",
              "  .colab-df-quickchart:hover {\n",
              "    background-color: #E2EBFA;\n",
              "    box-shadow: 0px 1px 2px rgba(60, 64, 67, 0.3), 0px 1px 3px 1px rgba(60, 64, 67, 0.15);\n",
              "    fill: #174EA6;\n",
              "  }\n",
              "\n",
              "  [theme=dark] .colab-df-quickchart {\n",
              "    background-color: #3B4455;\n",
              "    fill: #D2E3FC;\n",
              "  }\n",
              "\n",
              "  [theme=dark] .colab-df-quickchart:hover {\n",
              "    background-color: #434B5C;\n",
              "    box-shadow: 0px 1px 3px 1px rgba(0, 0, 0, 0.15);\n",
              "    filter: drop-shadow(0px 1px 2px rgba(0, 0, 0, 0.3));\n",
              "    fill: #FFFFFF;\n",
              "  }\n",
              "</style>\n",
              "\n",
              "    <script>\n",
              "      async function quickchart(key) {\n",
              "        const containerElement = document.querySelector('#' + key);\n",
              "        const charts = await google.colab.kernel.invokeFunction(\n",
              "            'suggestCharts', [key], {});\n",
              "      }\n",
              "    </script>\n",
              "\n",
              "      <script>\n",
              "\n",
              "function displayQuickchartButton(domScope) {\n",
              "  let quickchartButtonEl =\n",
              "    domScope.querySelector('#df-565916a9-b9d9-4a93-b27c-3eb1c5e83c91 button.colab-df-quickchart');\n",
              "  quickchartButtonEl.style.display =\n",
              "    google.colab.kernel.accessAllowed ? 'block' : 'none';\n",
              "}\n",
              "\n",
              "        displayQuickchartButton(document);\n",
              "      </script>\n",
              "      <style>\n",
              "    .colab-df-container {\n",
              "      display:flex;\n",
              "      flex-wrap:wrap;\n",
              "      gap: 12px;\n",
              "    }\n",
              "\n",
              "    .colab-df-convert {\n",
              "      background-color: #E8F0FE;\n",
              "      border: none;\n",
              "      border-radius: 50%;\n",
              "      cursor: pointer;\n",
              "      display: none;\n",
              "      fill: #1967D2;\n",
              "      height: 32px;\n",
              "      padding: 0 0 0 0;\n",
              "      width: 32px;\n",
              "    }\n",
              "\n",
              "    .colab-df-convert:hover {\n",
              "      background-color: #E2EBFA;\n",
              "      box-shadow: 0px 1px 2px rgba(60, 64, 67, 0.3), 0px 1px 3px 1px rgba(60, 64, 67, 0.15);\n",
              "      fill: #174EA6;\n",
              "    }\n",
              "\n",
              "    [theme=dark] .colab-df-convert {\n",
              "      background-color: #3B4455;\n",
              "      fill: #D2E3FC;\n",
              "    }\n",
              "\n",
              "    [theme=dark] .colab-df-convert:hover {\n",
              "      background-color: #434B5C;\n",
              "      box-shadow: 0px 1px 3px 1px rgba(0, 0, 0, 0.15);\n",
              "      filter: drop-shadow(0px 1px 2px rgba(0, 0, 0, 0.3));\n",
              "      fill: #FFFFFF;\n",
              "    }\n",
              "  </style>\n",
              "\n",
              "      <script>\n",
              "        const buttonEl =\n",
              "          document.querySelector('#df-8ac68d81-182d-4e41-813e-3fe1632d0a5e button.colab-df-convert');\n",
              "        buttonEl.style.display =\n",
              "          google.colab.kernel.accessAllowed ? 'block' : 'none';\n",
              "\n",
              "        async function convertToInteractive(key) {\n",
              "          const element = document.querySelector('#df-8ac68d81-182d-4e41-813e-3fe1632d0a5e');\n",
              "          const dataTable =\n",
              "            await google.colab.kernel.invokeFunction('convertToInteractive',\n",
              "                                                     [key], {});\n",
              "          if (!dataTable) return;\n",
              "\n",
              "          const docLinkHtml = 'Like what you see? Visit the ' +\n",
              "            '<a target=\"_blank\" href=https://colab.research.google.com/notebooks/data_table.ipynb>data table notebook</a>'\n",
              "            + ' to learn more about interactive tables.';\n",
              "          element.innerHTML = '';\n",
              "          dataTable['output_type'] = 'display_data';\n",
              "          await google.colab.output.renderOutput(dataTable, element);\n",
              "          const docLink = document.createElement('div');\n",
              "          docLink.innerHTML = docLinkHtml;\n",
              "          element.appendChild(docLink);\n",
              "        }\n",
              "      </script>\n",
              "    </div>\n",
              "  </div>\n"
            ]
          },
          "metadata": {},
          "execution_count": 8
        }
      ],
      "source": [
        "amazonData.dropna().head(2)"
      ],
      "id": "f9eea6e3"
    },
    {
      "cell_type": "code",
      "execution_count": 9,
      "metadata": {
        "id": "9HwI4L_xaGVm"
      },
      "outputs": [],
      "source": [
        "\n",
        "amazonData['review_body'] = amazonData['review_body'].astype(str)"
      ],
      "id": "9HwI4L_xaGVm"
    },
    {
      "cell_type": "code",
      "execution_count": 10,
      "metadata": {
        "id": "NLTFoB-EaWlc",
        "collapsed": true,
        "colab": {
          "base_uri": "https://localhost:8080/"
        },
        "outputId": "bad0a462-5c55-4e2b-d55d-32c09928ee70"
      },
      "outputs": [
        {
          "output_type": "execute_result",
          "data": {
            "text/plain": [
              "0         As advertised. Everything works perfectly, I'm...\n",
              "1                                                it's great\n",
              "2         These work great and fit my life proof case fo...\n",
              "3         Work very well but couldn't get used to not he...\n",
              "4         Be careful with these products, I have bought ...\n",
              "                                ...                        \n",
              "104970    I've been looking for a while for the \\\\\"purr\\...\n",
              "104971    We live in an apartment with hardwood floors a...\n",
              "104972    I received this for a birthday present and Its...\n",
              "104973    I got the Dirt Devil Spot Scrubber for a gift ...\n",
              "104974    I purchased this about three weeks ago along w...\n",
              "Name: review_body, Length: 104975, dtype: object"
            ]
          },
          "metadata": {},
          "execution_count": 10
        }
      ],
      "source": [
        "amazonData['review_body']"
      ],
      "id": "NLTFoB-EaWlc"
    },
    {
      "cell_type": "code",
      "execution_count": 11,
      "metadata": {
        "id": "KxGJsJh2VYV3"
      },
      "outputs": [],
      "source": [
        "def tokenization(text):\n",
        "    if isinstance(text, str):  # Check if the value is a string\n",
        "        tokens = re.findall(r'\\b\\w+\\b', text)\n",
        "        return tokens\n",
        "    else:\n",
        "        return []\n",
        "def case_folding(tokens):\n",
        "    l_t = [token.lower() for token in tokens]\n",
        "    return l_t\n",
        "# Tokenization\n",
        "amazonData['tokenized_text'] = amazonData['review_body'].apply(tokenization)\n",
        "# Case folding\n",
        "amazonData['lowercase_text'] = amazonData['tokenized_text'].apply(case_folding)"
      ],
      "id": "KxGJsJh2VYV3"
    },
    {
      "cell_type": "code",
      "execution_count": 12,
      "metadata": {
        "colab": {
          "base_uri": "https://localhost:8080/"
        },
        "id": "ln75nytD2_y1",
        "outputId": "2ac0d637-f235-439e-aabc-dc39ff909c2c",
        "collapsed": true
      },
      "outputs": [
        {
          "output_type": "execute_result",
          "data": {
            "text/plain": [
              "0         [as, advertised, everything, works, perfectly,...\n",
              "1                                            [it, s, great]\n",
              "2         [these, work, great, and, fit, my, life, proof...\n",
              "3         [work, very, well, but, couldn, t, get, used, ...\n",
              "4         [be, careful, with, these, products, i, have, ...\n",
              "                                ...                        \n",
              "104970    [i, ve, been, looking, for, a, while, for, the...\n",
              "104971    [we, live, in, an, apartment, with, hardwood, ...\n",
              "104972    [i, received, this, for, a, birthday, present,...\n",
              "104973    [i, got, the, dirt, devil, spot, scrubber, for...\n",
              "104974    [i, purchased, this, about, three, weeks, ago,...\n",
              "Name: lowercase_text, Length: 104975, dtype: object"
            ]
          },
          "metadata": {},
          "execution_count": 12
        }
      ],
      "source": [
        "amazonData['lowercase_text']"
      ],
      "id": "ln75nytD2_y1"
    },
    {
      "cell_type": "code",
      "execution_count": 13,
      "metadata": {
        "colab": {
          "base_uri": "https://localhost:8080/"
        },
        "id": "SxFQgq8icDvZ",
        "outputId": "b9a0be65-355e-4279-b56f-47d98ce7e1f6",
        "collapsed": true
      },
      "outputs": [
        {
          "output_type": "stream",
          "name": "stdout",
          "text": [
            "positive    85430\n",
            "negative    19545\n",
            "Name: sentiment, dtype: int64\n"
          ]
        }
      ],
      "source": [
        "# Calculate polarity\n",
        "amazonData[\"polarity\"] = amazonData['lowercase_text'].apply(lambda x: TextBlob(' '.join(x)).sentiment.polarity)\n",
        "# Categorize tweets as positive, negative, or neutral based on polarity\n",
        "amazonData[\"sentiment\"] = amazonData[\"polarity\"].apply(lambda x: \"positive\" if x > 0 else \"negative\")\n",
        "# Count the values in the sentiment column\n",
        "sentiment_counts = amazonData[\"sentiment\"].value_counts()\n",
        "print(sentiment_counts)"
      ],
      "id": "SxFQgq8icDvZ"
    },
    {
      "cell_type": "code",
      "execution_count": 14,
      "metadata": {
        "id": "3e868430"
      },
      "outputs": [],
      "source": [
        "X = amazonData['lowercase_text']\n",
        "y = amazonData[\"sentiment\"]\n"
      ],
      "id": "3e868430"
    },
    {
      "cell_type": "code",
      "execution_count": 15,
      "metadata": {
        "colab": {
          "base_uri": "https://localhost:8080/"
        },
        "id": "ef6ae628",
        "outputId": "32a81e28-67df-4149-ad7a-398d2789e885"
      },
      "outputs": [
        {
          "output_type": "execute_result",
          "data": {
            "text/plain": [
              "positive    85430\n",
              "negative    19545\n",
              "Name: sentiment, dtype: int64"
            ]
          },
          "metadata": {},
          "execution_count": 15
        }
      ],
      "source": [
        "y.value_counts()"
      ],
      "id": "ef6ae628"
    },
    {
      "cell_type": "code",
      "execution_count": 16,
      "metadata": {
        "id": "jLgihdHKgyN4"
      },
      "outputs": [],
      "source": [
        "# Create train and test sets for the data.\n",
        "X_train, X_test, y_train, y_test = train_test_split(X, y, test_size=0.20, random_state=42)"
      ],
      "id": "jLgihdHKgyN4"
    },
    {
      "cell_type": "code",
      "execution_count": 17,
      "metadata": {
        "colab": {
          "base_uri": "https://localhost:8080/"
        },
        "id": "zAC_VJKk65_a",
        "outputId": "c1a28fa6-d3fd-460a-e98c-64a96243d9a1",
        "collapsed": true
      },
      "outputs": [
        {
          "output_type": "execute_result",
          "data": {
            "text/plain": [
              "(83980,)"
            ]
          },
          "metadata": {},
          "execution_count": 17
        }
      ],
      "source": [
        "X_train.shape"
      ],
      "id": "zAC_VJKk65_a"
    },
    {
      "cell_type": "code",
      "execution_count": 18,
      "metadata": {
        "colab": {
          "base_uri": "https://localhost:8080/"
        },
        "id": "9-RPdfzR657z",
        "outputId": "05e3d417-31cb-49b4-9dc7-8cac2dd94b16",
        "collapsed": true
      },
      "outputs": [
        {
          "output_type": "execute_result",
          "data": {
            "text/plain": [
              "(83980,)"
            ]
          },
          "metadata": {},
          "execution_count": 18
        }
      ],
      "source": [
        "y_train.shape"
      ],
      "id": "9-RPdfzR657z"
    },
    {
      "cell_type": "code",
      "execution_count": 19,
      "metadata": {
        "id": "RMbs33YEzHyq"
      },
      "outputs": [],
      "source": [
        "# Tokenize the text\n",
        "tokenizer = tf.keras.preprocessing.text.Tokenizer()\n",
        "#tokensize on train\n",
        "tokenizer.fit_on_texts(X_train)\n",
        "#convert into sequences of integers train\n",
        "xt_seq = tokenizer.texts_to_sequences(X_train)\n",
        "#convert into sequences of integers test\n",
        "X_test_sequences = tokenizer.texts_to_sequences(X_test)\n",
        "# Determine the max seq length\n",
        "max_l = max(len(seq) for seq in xt_seq)\n",
        "# Determine the vocabulary size\n",
        "vo = len(tokenizer.word_index) + 1\n",
        "# to ensure that all seq. has the same length\n",
        "X_train_padded = pad_sequences(xt_seq, maxlen=max_l)\n",
        "#for testing\n",
        "xt_pad = pad_sequences(X_test_sequences, maxlen=max_l)\n",
        "# initialize embedding dimension\n",
        "embedding_dim = 128\n",
        "# illustrate architecture\n",
        "model = Sequential()\n",
        "#adding the respective dimensions\n",
        "model.add(Embedding(input_dim=vo, output_dim=embedding_dim, input_length=max_l))\n",
        "#adding lstm\n",
        "model.add(Bidirectional(LSTM(units=128)))\n",
        "#allocating sigmoid and relu\n",
        "model.add(Dense(units=64, activation='sigmoid'))\n",
        "model.add(Dropout(0.5))\n",
        "model.add(Dense(units=64, activation='relu'))\n",
        "# adding dense layer\n",
        "# Additional dense layer with 16 neurons\n",
        "model.add(Dense(units=16, activation='relu'))\n",
        "#dropout changes\n",
        "model.add(Dropout(0.5))\n",
        "#predicting probability between 0 and 1\n",
        "model.add(Dense(units=1, activation='sigmoid'))\n",
        "opt = Adam(learning_rate=0.001)\n",
        "# Compile the model\n",
        "model.compile(loss='binary_crossentropy', optimizer=opt, metrics=['accuracy'])\n",
        "#  LabelEncoder's object\n",
        "label_encoder = LabelEncoder()\n",
        "#try to fit and the target variable\n",
        "yt_encod = label_encoder.fit_transform(y_train)\n",
        "yte_encod = label_encoder.transform(y_test)\n",
        "# Conversion of target variable to float\n",
        "y_train1 = yt_encod.astype(float)\n",
        "#y test data will convert column from string/int to float\n",
        "y_test1 = yte_encod.astype(float)"
      ],
      "id": "RMbs33YEzHyq"
    },
    {
      "cell_type": "markdown",
      "metadata": {
        "id": "lfkA1PgAXIl6"
      },
      "source": [
        "## Model summary"
      ],
      "id": "lfkA1PgAXIl6"
    },
    {
      "cell_type": "code",
      "execution_count": 20,
      "metadata": {
        "colab": {
          "base_uri": "https://localhost:8080/"
        },
        "id": "vaopt05wzVzX",
        "outputId": "4ecec07d-b500-4728-f559-cf1399d17a76",
        "collapsed": true
      },
      "outputs": [
        {
          "output_type": "stream",
          "name": "stdout",
          "text": [
            "Model: \"sequential\"\n",
            "_________________________________________________________________\n",
            " Layer (type)                Output Shape              Param #   \n",
            "=================================================================\n",
            " embedding (Embedding)       (None, 2960, 128)         6441088   \n",
            "                                                                 \n",
            " bidirectional (Bidirectiona  (None, 256)              263168    \n",
            " l)                                                              \n",
            "                                                                 \n",
            " dense (Dense)               (None, 64)                16448     \n",
            "                                                                 \n",
            " dropout (Dropout)           (None, 64)                0         \n",
            "                                                                 \n",
            " dense_1 (Dense)             (None, 64)                4160      \n",
            "                                                                 \n",
            " dense_2 (Dense)             (None, 16)                1040      \n",
            "                                                                 \n",
            " dropout_1 (Dropout)         (None, 16)                0         \n",
            "                                                                 \n",
            " dense_3 (Dense)             (None, 1)                 17        \n",
            "                                                                 \n",
            "=================================================================\n",
            "Total params: 6,725,921\n",
            "Trainable params: 6,725,921\n",
            "Non-trainable params: 0\n",
            "_________________________________________________________________\n"
          ]
        }
      ],
      "source": [
        "model.summary()"
      ],
      "id": "vaopt05wzVzX"
    },
    {
      "cell_type": "code",
      "execution_count": 21,
      "metadata": {
        "id": "ekIrlJ4S2cu5"
      },
      "outputs": [],
      "source": [
        "#the point where we save our model for no more changes can be made\n",
        "model_checkpoint = ModelCheckpoint('best_model.h5', monitor='val_accuracy', mode='min', save_best_only=True, verbose=1)"
      ],
      "id": "ekIrlJ4S2cu5"
    },
    {
      "cell_type": "code",
      "execution_count": 22,
      "metadata": {
        "colab": {
          "base_uri": "https://localhost:8080/"
        },
        "id": "QDG-QmDtBoHP",
        "outputId": "76bcad28-17e4-49d4-eee2-1de1ec2de5e5",
        "collapsed": true
      },
      "outputs": [
        {
          "output_type": "stream",
          "name": "stdout",
          "text": [
            "Epoch 1/5\n",
            "329/329 [==============================] - ETA: 0s - loss: 0.3607 - accuracy: 0.8528\n",
            "Epoch 1: val_accuracy improved from inf to 0.89459, saving model to best_model.h5\n",
            "329/329 [==============================] - 224s 650ms/step - loss: 0.3607 - accuracy: 0.8528 - val_loss: 0.2479 - val_accuracy: 0.8946\n",
            "Epoch 2/5\n",
            "329/329 [==============================] - ETA: 0s - loss: 0.2232 - accuracy: 0.9208\n",
            "Epoch 2: val_accuracy did not improve from 0.89459\n",
            "329/329 [==============================] - 204s 620ms/step - loss: 0.2232 - accuracy: 0.9208 - val_loss: 0.1839 - val_accuracy: 0.9242\n",
            "Epoch 3/5\n",
            "329/329 [==============================] - ETA: 0s - loss: 0.1515 - accuracy: 0.9484\n",
            "Epoch 3: val_accuracy did not improve from 0.89459\n",
            "329/329 [==============================] - 199s 606ms/step - loss: 0.1515 - accuracy: 0.9484 - val_loss: 0.1471 - val_accuracy: 0.9461\n",
            "Epoch 4/5\n",
            "329/329 [==============================] - ETA: 0s - loss: 0.1003 - accuracy: 0.9682\n",
            "Epoch 4: val_accuracy did not improve from 0.89459\n",
            "329/329 [==============================] - 197s 600ms/step - loss: 0.1003 - accuracy: 0.9682 - val_loss: 0.1478 - val_accuracy: 0.9511\n",
            "Epoch 5/5\n",
            "329/329 [==============================] - ETA: 0s - loss: 0.0723 - accuracy: 0.9774\n",
            "Epoch 5: val_accuracy did not improve from 0.89459\n",
            "329/329 [==============================] - 192s 584ms/step - loss: 0.0723 - accuracy: 0.9774 - val_loss: 0.1552 - val_accuracy: 0.9530\n"
          ]
        }
      ],
      "source": [
        "# Train the model\n",
        "history=model.fit(X_train_padded, y_train1, batch_size=256, epochs=5, validation_data=(xt_pad , y_test1),callbacks=[model_checkpoint])"
      ],
      "id": "QDG-QmDtBoHP"
    },
    {
      "cell_type": "code",
      "execution_count": 23,
      "metadata": {
        "id": "JD5Ph3HpSaJo"
      },
      "outputs": [],
      "source": [
        "#load respective model\n",
        "loaded_model = load_model(\"/content/best_model.h5\")"
      ],
      "id": "JD5Ph3HpSaJo"
    },
    {
      "cell_type": "code",
      "execution_count": 24,
      "metadata": {
        "id": "dnpETItDML9c",
        "colab": {
          "base_uri": "https://localhost:8080/",
          "height": 492
        },
        "outputId": "fdfab201-51b1-44ac-e645-c156901bc11a"
      },
      "outputs": [
        {
          "output_type": "display_data",
          "data": {
            "text/plain": [
              "<Figure size 2000x600 with 2 Axes>"
            ],
            "image/png": "[encoded data removed]"
          },
          "metadata": {}
        }
      ],
      "source": [
        "#accuracy is stored in a variable acc\n",
        "acc = history.history['accuracy']\n",
        "#validation accuracy is stored inval_acc\n",
        "val_acc = history.history['val_accuracy']\n",
        "#loss in model\n",
        "loss = history.history['loss']\n",
        "#validation loss is stored in val_loss\n",
        "val_loss = history.history['val_loss']\n",
        "# number of iterations\n",
        "epoch_r = range(5)\n",
        "plt.figure(figsize=(20, 6))\n",
        "plt.subplot(1, 2, 1)\n",
        " # One row, two columns, first subplot\n",
        "plt.plot(epoch_r, acc, label='Training')\n",
        "#plotting  agter data is cleaned\n",
        "plt.plot(epoch_r, val_acc, label='Validation')\n",
        "#displaying epochs on x label\n",
        "plt.xlabel('Epochs')\n",
        "#displaying accuracy on y labels\n",
        "plt.ylabel('Accuracy')\n",
        "#legend provide information related to curve at a particular location\n",
        "plt.legend(loc='lower right')\n",
        "plt.title('History of Accuracy')\n",
        "plt.subplot(1, 2, 2)  # One row, two columns, second subplot\n",
        "plt.plot(epoch_r, loss, label='Training')\n",
        "plt.plot(epoch_r, val_loss, label='Validation')\n",
        "#setting a label for x\n",
        "plt.xlabel('Epochs')\n",
        "#setting a label for y\n",
        "plt.ylabel('Loss')\n",
        "#provide meaning to the visualization\n",
        "plt.legend(loc='upper right')\n",
        "#name of the plot\n",
        "plt.title('History of Loss')\n",
        "#display the plot\n",
        "plt.show()"
      ],
      "id": "dnpETItDML9c"
    },
    {
      "cell_type": "markdown",
      "metadata": {
        "id": "cCq2dGLiXltp"
      },
      "source": [
        "# TESTING DATA"
      ],
      "id": "cCq2dGLiXltp"
    },
    {
      "cell_type": "code",
      "execution_count": 25,
      "metadata": {
        "id": "G7A1f0u9f79R",
        "collapsed": true,
        "colab": {
          "base_uri": "https://localhost:8080/"
        },
        "outputId": "29181203-a200-409b-9ddf-10e3e44835bf"
      },
      "outputs": [
        {
          "output_type": "stream",
          "name": "stdout",
          "text": [
            "657/657 [==============================] - 46s 68ms/step - loss: 0.2479 - accuracy: 0.8946\n"
          ]
        },
        {
          "output_type": "execute_result",
          "data": {
            "text/plain": [
              "[0.24794352054595947, 0.8945939540863037]"
            ]
          },
          "metadata": {},
          "execution_count": 25
        }
      ],
      "source": [
        "loaded_model.evaluate(xt_pad , y_test1)"
      ],
      "id": "G7A1f0u9f79R"
    },
    {
      "cell_type": "code",
      "source": [
        "# applying predictions on  test-ing set\n",
        "y_pd = loaded_model.predict(xt_pad)\n",
        "# Conversion of predicted probability to class labels\n",
        "y_pd_labels = (y_pd > 0.5).astype(int)\n",
        "# Convert the true labels to integers (in case they are in float format)\n",
        "y_test_int = y_test1.astype(int)"
      ],
      "metadata": {
        "id": "fbnd8gFSZwp7",
        "collapsed": true,
        "colab": {
          "base_uri": "https://localhost:8080/"
        },
        "outputId": "e2f6b0cf-bb49-482a-9660-043313f5fa7c"
      },
      "id": "fbnd8gFSZwp7",
      "execution_count": 26,
      "outputs": [
        {
          "output_type": "stream",
          "name": "stdout",
          "text": [
            "657/657 [==============================] - 43s 65ms/step\n"
          ]
        }
      ]
    },
    {
      "cell_type": "code",
      "source": [
        "from sklearn.metrics import confusion_matrix\n",
        "conf_matrix = confusion_matrix( y_pd_labels,y_test_int)\n",
        "tn, fp, fn, tp = conf_matrix.ravel()\n",
        "specificity = tn / (tn + fp)\n",
        "misclassification_rate = (fp + fn) / (tn + fp + fn + tp)"
      ],
      "metadata": {
        "id": "nQCfBUudOr6E"
      },
      "id": "nQCfBUudOr6E",
      "execution_count": 27,
      "outputs": []
    },
    {
      "cell_type": "code",
      "execution_count": 28,
      "metadata": {
        "id": "iWRssR6CxtbF",
        "collapsed": true,
        "colab": {
          "base_uri": "https://localhost:8080/"
        },
        "outputId": "e5e049ab-b39b-4f10-826e-93bff8b7d19f"
      },
      "outputs": [
        {
          "output_type": "stream",
          "name": "stdout",
          "text": [
            "Testing Specificity of LSTM: 0.6892841458058849\n",
            "Testing Misclassification Rate of LSTM: 0.10540604905929983\n",
            "Testing accuracy of LSTM 0.8945939509407002\n",
            "Testing precision of LSTM 0.9170477195450815\n",
            "Testing recall of LSTM: 0.9514628063986376\n",
            "Testing F1_score of LSTM 0.9339383265172094\n"
          ]
        }
      ],
      "source": [
        "\n",
        "print(\"Testing Specificity of LSTM:\", specificity)\n",
        "print(\"Testing Misclassification Rate of LSTM:\", misclassification_rate)\n",
        "acc = accuracy_score(y_pd_labels,y_test_int)\n",
        "print(\"Testing accuracy of LSTM\",acc)\n",
        "precio = precision_score(y_pd_labels,y_test_int)\n",
        "print(\"Testing precision of LSTM\",precio)\n",
        "recallsc= recall_score(y_pd_labels,y_test_int)\n",
        "print(\"Testing recall of LSTM:\",recallsc)\n",
        "f1sc=f1_score(y_pd_labels,y_test_int)\n",
        "print(\"Testing F1_score of LSTM\",f1sc)\n"
      ],
      "id": "iWRssR6CxtbF"
    },
    {
      "cell_type": "code",
      "execution_count": 29,
      "metadata": {
        "id": "yqfVe1mybwv6",
        "colab": {
          "base_uri": "https://localhost:8080/"
        },
        "outputId": "9f0a0a21-5443-472b-962d-5ed534a944bd"
      },
      "outputs": [
        {
          "output_type": "stream",
          "name": "stdout",
          "text": [
            "The Classification Report OF Testing is:\n",
            "              precision    recall  f1-score   support\n",
            "\n",
            "           0       0.69      0.80      0.74      3937\n",
            "           1       0.95      0.92      0.93     17058\n",
            "\n",
            "    accuracy                           0.89     20995\n",
            "   macro avg       0.82      0.86      0.84     20995\n",
            "weighted avg       0.90      0.89      0.90     20995\n",
            "\n"
          ]
        }
      ],
      "source": [
        "# Compute and show the classification report\n",
        "classif_rp = classification_report(y_test_int, y_pd_labels)\n",
        "print(\"The Classification Report OF Testing is:\")\n",
        "print(classif_rp)"
      ],
      "id": "yqfVe1mybwv6"
    },
    {
      "cell_type": "code",
      "execution_count": 30,
      "metadata": {
        "id": "Rce-i8DEVAtv",
        "colab": {
          "base_uri": "https://localhost:8080/",
          "height": 564
        },
        "outputId": "c56fa904-dfed-4886-c7e1-4bc17670a340"
      },
      "outputs": [
        {
          "output_type": "display_data",
          "data": {
            "text/plain": [
              "<Figure size 800x600 with 2 Axes>"
            ],
            "image/png": "[encoded data removed]"
          },
          "metadata": {}
        }
      ],
      "source": [
        "\n",
        "# Define class labels (replace with your actual class labels)\n",
        "class_labels = ['Class 0', 'Class 1']\n",
        "confuz_mx = confusion_matrix(y_test_int, y_pd_labels)\n",
        "# genrate a heatmap for the confusion matrix\n",
        "plt.figure(figsize=(8, 6))\n",
        "#a matrix with colour coding that displays rectangular data\n",
        "sns.heatmap(confuz_mx, annot=True, fmt='d', cmap='Blues', xticklabels=class_labels, yticklabels=class_labels)\n",
        "#Add an axis label to a figure and change the text properties of the axis labels.\n",
        "plt.xlabel('Predicted Labels')\n",
        "#Add an axis label to a figure and change the text properties of the axis labels.\n",
        "plt.ylabel('True Labels')\n",
        "plt.title('Confusion Matrix for testing data ')\n",
        "#showing the plot\n",
        "plt.show()\n"
      ],
      "id": "Rce-i8DEVAtv"
    },
    {
      "cell_type": "markdown",
      "metadata": {
        "id": "rIj1cCjVYaCE"
      },
      "source": [
        "# ROC CURVE"
      ],
      "id": "rIj1cCjVYaCE"
    },
    {
      "cell_type": "code",
      "execution_count": 31,
      "metadata": {
        "id": "aAr4QqmoeFjv",
        "colab": {
          "base_uri": "https://localhost:8080/",
          "height": 472
        },
        "outputId": "1cd258e4-e08f-4230-c0a2-4fe6f20c6a71"
      },
      "outputs": [
        {
          "output_type": "display_data",
          "data": {
            "text/plain": [
              "<Figure size 640x480 with 1 Axes>"
            ],
            "image/png": "[encoded data removed]"
          },
          "metadata": {}
        }
      ],
      "source": [
        "#while ignoring the threshold values, assign these values to the variables fpr and tpr, respectively.\n",
        "#The threshold values are discarded and these values are transferred to the variables fpr and tpr, respectively.\n",
        "fpr, tpr, _ = roc_curve(y_test_int, y_pd_labels)\n",
        "#determines the AUC (Area Under the ROC Curve)\n",
        "roc_auc = auc(fpr, tpr)\n",
        "#rounded to four decimal places, labelling the curve with the Multinomial Naive Bayes' ROC AUC score.\n",
        "plt.plot(fpr, tpr, label=f'MultinomialNB AUC = {roc_auc:.4f}')\n",
        "plt.plot([0, 1], [0, 1], color = 'green', linestyle=\"dashed\")\n",
        "plt.title('Receiver Operating Characteristic (ROC) Curve (testing)')\n",
        "#set the label for the x axis specifying the positive label for the binary classification\n",
        "plt.xlabel(\"False Positive Rate (Positive label: 1)\")\n",
        "#set the label for the y axis specifying the positive label for the binary classification\n",
        "plt.ylabel(\"True Positive Rate (Positive label: 1)\")\n",
        "plt.legend()\n",
        "plt.show()"
      ],
      "id": "aAr4QqmoeFjv"
    },
    {
      "cell_type": "markdown",
      "metadata": {
        "id": "1y6FERHcFs8g"
      },
      "source": [
        "# TRAIN MODEL"
      ],
      "id": "1y6FERHcFs8g"
    },
    {
      "cell_type": "code",
      "execution_count": 32,
      "metadata": {
        "id": "Y-0lZdGPf8CE",
        "collapsed": true,
        "colab": {
          "base_uri": "https://localhost:8080/"
        },
        "outputId": "faef9fc6-88e0-488b-b0a2-9af54e51f71a"
      },
      "outputs": [
        {
          "output_type": "stream",
          "name": "stdout",
          "text": [
            "2625/2625 [==============================] - 178s 68ms/step - loss: 0.2213 - accuracy: 0.9105\n"
          ]
        },
        {
          "output_type": "execute_result",
          "data": {
            "text/plain": [
              "[0.22130994498729706, 0.9104548692703247]"
            ]
          },
          "metadata": {},
          "execution_count": 32
        }
      ],
      "source": [
        "loaded_model.evaluate(X_train_padded, y_train1)"
      ],
      "id": "Y-0lZdGPf8CE"
    },
    {
      "cell_type": "code",
      "execution_count": 33,
      "metadata": {
        "id": "XR1vfqOMGc8y",
        "collapsed": true,
        "colab": {
          "base_uri": "https://localhost:8080/"
        },
        "outputId": "c5990942-c6a4-4ad9-c4ab-6c70c129c1bd"
      },
      "outputs": [
        {
          "output_type": "stream",
          "name": "stdout",
          "text": [
            "2625/2625 [==============================] - 169s 64ms/step\n"
          ]
        }
      ],
      "source": [
        "#Make forecasts about the test set.\n",
        "y_pd = loaded_model.predict(X_train_padded)\n",
        "# Change projected probability to class labels.\n",
        "y_pd_labels = (y_pd > 0.5).astype(int)\n",
        "# Convert the true labels to integers (in case they are in float format)\n",
        "y_train_int = y_train1.astype(int)"
      ],
      "id": "XR1vfqOMGc8y"
    },
    {
      "cell_type": "code",
      "source": [
        "# do predictions on the test\n",
        "y_pd = model.predict(X_train_padded)\n"
      ],
      "metadata": {
        "colab": {
          "base_uri": "https://localhost:8080/"
        },
        "id": "O4h1GbBUYURs",
        "outputId": "4d0b268f-97a4-4f9e-8071-4df56ecbacd9"
      },
      "id": "O4h1GbBUYURs",
      "execution_count": 34,
      "outputs": [
        {
          "output_type": "stream",
          "name": "stdout",
          "text": [
            "2625/2625 [==============================] - 169s 64ms/step\n"
          ]
        }
      ]
    },
    {
      "cell_type": "code",
      "source": [
        "# Change projected probability to class labels.\n",
        "y_pd_labels = (y_pd > 0.5).astype(int)"
      ],
      "metadata": {
        "id": "iBD0Aa5LYaxU"
      },
      "id": "iBD0Aa5LYaxU",
      "execution_count": 35,
      "outputs": []
    },
    {
      "cell_type": "code",
      "source": [
        "y_train_int = y_train1.astype(int)\n"
      ],
      "metadata": {
        "id": "MzUnmk8rZRkK"
      },
      "id": "MzUnmk8rZRkK",
      "execution_count": 36,
      "outputs": []
    },
    {
      "cell_type": "code",
      "execution_count": 37,
      "metadata": {
        "id": "V-4yKzLnej2R",
        "collapsed": true
      },
      "outputs": [],
      "source": [
        "\n",
        "# Convert the true labels to integers (in case they are in float format)\n",
        "# Calculate the confusion matrix\n",
        "conf_matrix = confusion_matrix( y_pd_labels,y_train_int)\n",
        "tn, fp, fn, tp = conf_matrix.ravel()\n",
        "specificity = tn / (tn + fp)\n",
        "misclassification_rate = (fp + fn) / (tn + fp + fn + tp)\n",
        "\n"
      ],
      "id": "V-4yKzLnej2R"
    },
    {
      "cell_type": "code",
      "source": [
        "print(\"Testing Specificity of LSTM:\", specificity)\n",
        "print(\"Testing Misclassification Rate of LSTM:\", misclassification_rate)\n",
        "acc = accuracy_score(y_pd_labels,y_train_int)\n",
        "print(\"Training accuracy of LSTM\",acc)\n",
        "precio = precision_score(y_pd_labels,y_train_int)\n",
        "print(\" Training precision of LSTM :\",precio)\n",
        "recallsc= recall_score(y_pd_labels,y_train_int)\n",
        "print(\"Training recall score of  LSTM:\",recallsc)\n",
        "f1sc=f1_score(y_pd_labels,y_train_int)\n",
        "print(\"Training F1_score of  LSTM\",f1sc)"
      ],
      "metadata": {
        "id": "vxyOCUVvVKdW",
        "collapsed": true,
        "colab": {
          "base_uri": "https://localhost:8080/"
        },
        "outputId": "59161a6a-ba47-4520-9e44-d6ce95dcb208"
      },
      "id": "vxyOCUVvVKdW",
      "execution_count": 38,
      "outputs": [
        {
          "output_type": "stream",
          "name": "stdout",
          "text": [
            "Testing Specificity of LSTM: 0.9600984910663553\n",
            "Testing Misclassification Rate of LSTM: 0.012300547749464158\n",
            "Training accuracy of LSTM 0.9876994522505358\n",
            " Training precision of LSTM : 0.9907564500087755\n",
            "Training recall score of  LSTM: 0.9941151435993014\n",
            "Training F1_score of  LSTM 0.992432955103177\n"
          ]
        }
      ]
    },
    {
      "cell_type": "code",
      "execution_count": 39,
      "metadata": {
        "id": "G8C2LPuYGnl8",
        "colab": {
          "base_uri": "https://localhost:8080/"
        },
        "outputId": "d10e0921-416c-4cac-a429-87ae17f3772f"
      },
      "outputs": [
        {
          "output_type": "stream",
          "name": "stdout",
          "text": [
            "Classification Report of training:\n",
            "              precision    recall  f1-score   support\n",
            "\n",
            "           0       0.96      0.97      0.97     15608\n",
            "           1       0.99      0.99      0.99     68372\n",
            "\n",
            "    accuracy                           0.99     83980\n",
            "   macro avg       0.98      0.98      0.98     83980\n",
            "weighted avg       0.99      0.99      0.99     83980\n",
            "\n"
          ]
        }
      ],
      "source": [
        "# Compute and show the classification report\n",
        "clsifn_rp = classification_report(y_train_int, y_pd_labels)\n",
        "print(\"Classification Report of training:\")\n",
        "print(clsifn_rp)"
      ],
      "id": "G8C2LPuYGnl8"
    },
    {
      "cell_type": "code",
      "execution_count": 40,
      "metadata": {
        "id": "hq94xRJcGizS",
        "colab": {
          "base_uri": "https://localhost:8080/",
          "height": 564
        },
        "outputId": "20c70bf3-8592-4b64-a535-b6c89d008691"
      },
      "outputs": [
        {
          "output_type": "display_data",
          "data": {
            "text/plain": [
              "<Figure size 800x600 with 2 Axes>"
            ],
            "image/png": "[encoded data removed]"
          },
          "metadata": {}
        }
      ],
      "source": [
        "# Define class labels (replace with your actual class labels)\n",
        "class_labels = ['Class 0', 'Class 1']\n",
        "conf_mx = confusion_matrix(y_train_int, y_pd_labels)\n",
        "# Construct heatmap of the confusion matrix\n",
        "plt.figure(figsize=(8, 6))\n",
        "#using graphical representation of data in 2 dimensional\n",
        "sns.heatmap(conf_mx, annot=True, fmt='d', cmap='Blues', xticklabels=class_labels, yticklabels=class_labels)\n",
        "#showing pridicted labels on x axis\n",
        "plt.xlabel('Predicted Labels')\n",
        "#setting label for y axis\n",
        "plt.ylabel('True Labels')\n",
        "#naming the matrix\n",
        "plt.title('Confusion Matrix of training data')\n",
        "plt.show()\n"
      ],
      "id": "hq94xRJcGizS"
    },
    {
      "cell_type": "code",
      "source": [
        "#while ignoring the threshold values, assign these values to the variables fpr and tpr, respectively.\n",
        "#The threshold values are discarded and these values are transferred to the variables fpr and tpr, respectively.\n",
        "fpr, tpr, _ = roc_curve(y_train_int, y_pd_labels)\n",
        "#determines the AUC (Area Under the ROC Curve)\n",
        "roc_auc = auc(fpr, tpr)\n",
        "#rounded to four decimal places, labelling the curve with the Multinomial Naive Bayes' ROC AUC score.\n",
        "plt.plot(fpr, tpr, label=f'MultinomialNB AUC = {roc_auc:.4f}')\n",
        "plt.plot([0, 1], [0, 1], color = 'green', linestyle=\"dashed\")\n",
        "plt.title('Receiver Operating Characteristic (ROC) Curve (training)')\n",
        "#set the label for the x axis specifying the positive label for the binary classification\n",
        "plt.xlabel(\"False Positive Rate (Positive label: 1)\")\n",
        "#set the label for the y axis specifying the positive label for the binary classification\n",
        "plt.ylabel(\"True Positive Rate (Positive label: 1)\")\n",
        "plt.legend()\n",
        "plt.show()"
      ],
      "metadata": {
        "id": "Xe6-x8AEdkDo",
        "colab": {
          "base_uri": "https://localhost:8080/",
          "height": 472
        },
        "outputId": "f6cf8a78-e19e-44fb-f4ab-8000e941e85b"
      },
      "id": "Xe6-x8AEdkDo",
      "execution_count": 41,
      "outputs": [
        {
          "output_type": "display_data",
          "data": {
            "text/plain": [
              "<Figure size 640x480 with 1 Axes>"
            ],
            "image/png": "[encoded data removed]"
          },
          "metadata": {}
        }
      ]
    }
  ],
  "metadata": {
    "accelerator": "GPU",
    "colab": {
      "machine_shape": "hm",
      "provenance": [],
      "gpuType": "T4"
    },
    "kernelspec": {
      "display_name": "Python 3",
      "name": "python3"
    },
    "language_info": {
      "codemirror_mode": {
        "name": "ipython",
        "version": 3
      },
      "file_extension": ".py",
      "mimetype": "text/x-python",
      "name": "python",
      "nbconvert_exporter": "python",
      "pygments_lexer": "ipython3",
      "version": "3.9.13"
    }
  },
  "nbformat": 4,
  "nbformat_minor": 5
}