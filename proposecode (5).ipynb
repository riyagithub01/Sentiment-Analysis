{
  "cells": [
    {
      "cell_type": "markdown",
      "source": [
        "\n",
        "the code is all about sentimental analysis in this we are using cnn lstm model for achieving higher accuracy.we are calculating specificity,precision,recall,f1 score,etc. to analyse model in a better way we had done pre processing to clean our data and finf patters and to remove noise present in the data.splitting the data set into training and testing ratio loading the model and giving checkpoint at the end creating roc curve and confusion matrix.\n",
        "---\n",
        "\n"
      ],
      "metadata": {
        "id": "dWDTx8TbnVNl"
      }
    },
    {
      "cell_type": "code",
      "source": [
        "##pandas library is used for data manipulation\n",
        "#pandas is imported to work with datset\n",
        "import pandas as pd\n",
        "#using csv to read and manipulate on tabualr data\n",
        "import csv\n",
        "# used to perform operations\n",
        "import re\n",
        "import nltk\n",
        "#collection of text documents\n",
        "from nltk.corpus import stopwords\n",
        "#making words more understandable for machine\n",
        "from nltk.stem import WordNetLemmatizer\n",
        "#for polarity operation\n",
        "from textblob import TextBlob\n",
        "#sklearn is used for stastical modeling\n",
        "from sklearn.preprocessing import LabelEncoder\n",
        "#used for various curve plot,great visualization\n",
        "from sklearn.metrics import roc_curve, auc,confusion_matrix, classification_report, precision_score, recall_score, f1_score, accuracy_score\n",
        "#do graph comparisions for better understanding of data\n",
        "import seaborn as sns\n",
        "#implement mathematical operations on array\n",
        "import numpy as np\n",
        "#helps to plot graphs\n",
        "import matplotlib.pyplot as py\n",
        "#for splitting of data into training and testing\n",
        "from sklearn.model_selection import train_test_split\n",
        "#used for analysis and comparision\n",
        "import tensorflow as tf\n",
        "#used for analysis and comparision\n",
        "from tensorflow.keras.models import Sequential\n",
        "#it isused to process in bothe the directions ,improves understanding\n",
        "from tensorflow.keras.layers import Embedding, Conv1D, MaxPooling1D, LSTM, Dense, Dropout, GlobalMaxPooling1D\n",
        "# adam is used to improve its accuracy and speed\n",
        "from tensorflow.keras.optimizers import Adam\n",
        "#transform a list of number of samples sequences into a 2d array of shape\n",
        "from tensorflow.keras.preprocessing.sequence import pad_sequences\n",
        "# used for the conversion of categorical variable into numerical format\n",
        "from sklearn.preprocessing import LabelEncoder\n",
        "\n"
      ],
      "metadata": {
        "id": "ATqvfM4AlMlJ"
      },
      "execution_count": 2,
      "outputs": []
    },
    {
      "cell_type": "code",
      "source": [
        "#reading and gaining access to the data\n",
        "amazonData = pd.read_csv(\"/content/drive/MyDrive/RiyaSingh/amazon_reviews_us_Mobile_Electronics_v1_00 (1).tsv\", delimiter='\\t', quoting=csv.QUOTE_NONE)"
      ],
      "metadata": {
        "id": "RJCa9z--lu3S"
      },
      "execution_count": 3,
      "outputs": []
    },
    {
      "cell_type": "code",
      "execution_count": 4,
      "metadata": {
        "id": "Ke9p-EXna1Pg"
      },
      "outputs": [],
      "source": [
        "#column on which we will perform\n",
        "review = amazonData['review_body']"
      ]
    },
    {
      "cell_type": "markdown",
      "source": [
        "# CASEFOLDING TOKENIZATION"
      ],
      "metadata": {
        "id": "MpXk-eCNj5w0"
      }
    },
    {
      "cell_type": "code",
      "execution_count": 5,
      "metadata": {
        "colab": {
          "base_uri": "https://localhost:8080/"
        },
        "id": "A5B1i2-p1Jl5",
        "outputId": "1b755e98-2b67-44f0-c6cb-f8e108951f88",
        "collapsed": true
      },
      "outputs": [
        {
          "output_type": "stream",
          "name": "stderr",
          "text": [
            "[nltk_data] Downloading package stopwords to /root/nltk_data...\n",
            "[nltk_data]   Unzipping corpora/stopwords.zip.\n",
            "[nltk_data] Downloading package wordnet to /root/nltk_data...\n"
          ]
        }
      ],
      "source": [
        "# Download NLTK resources (stopwords and lemmatization)\n",
        "#stopwords are used to filter the paragraph\n",
        "nltk.download('stopwords')\n",
        "#organize words into synsets\n",
        "nltk.download('wordnet')\n",
        "# Create stopwords set\n",
        "s_w = set(stopwords.words('english'))\n",
        "# Create lemmatiz's object\n",
        "lemmatizer = WordNetLemmatizer()\n",
        "def tokenization(text):\n",
        "    # Check if text is a valid string\n",
        "    if isinstance(text, str):\n",
        "        # Whitespaces and punctuations\n",
        "        tokens = re.findall(r'\\b\\w+\\b', text)\n",
        "        return tokens\n",
        "    else:\n",
        "        return []\n",
        "def case_folding(tokens):\n",
        "    l_t = [token.lower() for token in tokens]\n",
        "    return l_t\n",
        "def r_s(tokens):\n",
        "    fil_tok = [token for token in tokens if token not in s_w]\n",
        "    return fil_tok\n",
        "def move_punctu(tokens):\n",
        "    # deleting non-alphanumeric characters\n",
        "    alphan_tok = [re.sub(r'\\W+', '', token) for token in tokens]\n",
        "    return alphan_tok\n",
        "def lemmatization(tokens):\n",
        "    lematiz_tok = [lemmatizer.lemmatize(token) for token in tokens]\n",
        "    return  lematiz_tok\n",
        "# Tokenization\n",
        "amazonData['tokenized_text'] = amazonData['review_body'].apply(tokenization)\n",
        "# Case folding\n",
        "amazonData['lowercase_text'] = amazonData['tokenized_text'].apply(case_folding)\n",
        "# Remove stopwords\n",
        "amazonData['without_stopwords'] = amazonData['lowercase_text'].apply(r_s)\n",
        "# Remove punctuation\n",
        "amazonData['without_punctuation'] = amazonData['without_stopwords'].apply(move_punctu)\n",
        "# Lemmatization\n",
        "amazonData['lemmatized_text'] = amazonData['without_punctuation'].apply(lemmatization)"
      ]
    },
    {
      "cell_type": "code",
      "execution_count": 6,
      "metadata": {
        "colab": {
          "base_uri": "https://localhost:8080/"
        },
        "id": "t_IIY1C01d_a",
        "outputId": "5df393ed-5f11-4143-d2aa-6e81ac6ba4d0",
        "collapsed": true
      },
      "outputs": [
        {
          "output_type": "stream",
          "name": "stdout",
          "text": [
            "positive    86395\n",
            "negative    18580\n",
            "Name: sentiment, dtype: int64\n"
          ]
        }
      ],
      "source": [
        "# Calculate polarity\n",
        "amazonData[\"polarity\"] = amazonData['lemmatized_text'].apply(lambda x: TextBlob(' '.join(x)).sentiment.polarity)\n",
        "# Categorize tweets as positive, negative, or neutral based on polarity\n",
        "amazonData[\"sentiment\"] = amazonData[\"polarity\"].apply(lambda x: \"positive\" if x > 0 else \"negative\")\n",
        "# Count the values in the sentiment column\n",
        "sentiment_counts = amazonData[\"sentiment\"].value_counts()\n",
        "print(sentiment_counts)"
      ]
    },
    {
      "cell_type": "code",
      "execution_count": 7,
      "metadata": {
        "id": "alscrEwh18Mq"
      },
      "outputs": [],
      "source": [
        "#assigning values to x and y\n",
        "X=amazonData['lemmatized_text']\n",
        "y=amazonData['sentiment']"
      ]
    },
    {
      "cell_type": "code",
      "execution_count": 8,
      "metadata": {
        "colab": {
          "base_uri": "https://localhost:8080/"
        },
        "id": "cGXRVewh4QJM",
        "outputId": "dab0c2ef-ce27-489e-f602-95bd63ec3bf2",
        "collapsed": true
      },
      "outputs": [
        {
          "output_type": "execute_result",
          "data": {
            "text/plain": [
              "0         [advertised, everything, work, perfectly, happ...\n",
              "1                                                   [great]\n",
              "2          [work, great, fit, life, proof, case, iphone, 6]\n",
              "3         [work, well, get, used, hearing, anything, ear...\n",
              "4         [careful, product, bought, several, camera, im...\n",
              "                                ...                        \n",
              "104970    [looking, purr, fect, solution, clean, inevita...\n",
              "104971    [live, apartment, hardwood, floor, carpet, wan...\n",
              "104972    [received, birthday, present, best, 1, dog, 1,...\n",
              "104973    [got, dirt, devil, spot, scrubber, gift, chris...\n",
              "104974    [purchased, three, week, ago, along, new, pupp...\n",
              "Name: lemmatized_text, Length: 104975, dtype: object"
            ]
          },
          "metadata": {},
          "execution_count": 8
        }
      ],
      "source": [
        "#printing data in x\n",
        "X"
      ]
    },
    {
      "cell_type": "code",
      "execution_count": 9,
      "metadata": {
        "colab": {
          "base_uri": "https://localhost:8080/"
        },
        "id": "ioFu9L3N4Rt-",
        "outputId": "dc51a6ee-5a5e-4c0b-b104-656ed10c5268",
        "collapsed": true
      },
      "outputs": [
        {
          "output_type": "execute_result",
          "data": {
            "text/plain": [
              "0         positive\n",
              "1         positive\n",
              "2         positive\n",
              "3         negative\n",
              "4         positive\n",
              "            ...   \n",
              "104970    positive\n",
              "104971    positive\n",
              "104972    positive\n",
              "104973    positive\n",
              "104974    positive\n",
              "Name: sentiment, Length: 104975, dtype: object"
            ]
          },
          "metadata": {},
          "execution_count": 9
        }
      ],
      "source": [
        "#printing data in y\n",
        "y"
      ]
    },
    {
      "cell_type": "code",
      "execution_count": 10,
      "metadata": {
        "id": "-DmZWXqj5X2f"
      },
      "outputs": [],
      "source": [
        "# Separate features (X) and target variable (y)\n",
        "X=amazonData['lemmatized_text']\n",
        "y = amazonData['sentiment']\n",
        "# Make a new LabelEncoder object.\n",
        "lbl_en = LabelEncoder()\n",
        "# Convert the target variable to numerical values by fitting it.\n",
        "y_encoded = lbl_en.fit_transform(y)\n",
        "# The classes are now encoded as 0 and 1\n",
        "y_df = pd.DataFrame(y_encoded, columns=['sentiment_encoded'])\n"
      ]
    },
    {
      "cell_type": "code",
      "execution_count": 11,
      "metadata": {
        "colab": {
          "base_uri": "https://localhost:8080/",
          "height": 423
        },
        "id": "M8qCEcS65qKq",
        "outputId": "7ed2a3a8-bfd7-45e7-e4ae-cb38bf179854",
        "collapsed": true
      },
      "outputs": [
        {
          "output_type": "execute_result",
          "data": {
            "text/plain": [
              "        sentiment_encoded\n",
              "0                       1\n",
              "1                       1\n",
              "2                       1\n",
              "3                       0\n",
              "4                       1\n",
              "...                   ...\n",
              "104970                  1\n",
              "104971                  1\n",
              "104972                  1\n",
              "104973                  1\n",
              "104974                  1\n",
              "\n",
              "[104975 rows x 1 columns]"
            ],
            "text/html": [
              "\n",
              "\n",
              "  <div id=\"df-c1e8f87a-f365-49aa-a3d9-2dbf94a70e70\">\n",
              "    <div class=\"colab-df-container\">\n",
              "      <div>\n",
              "<style scoped>\n",
              "    .dataframe tbody tr th:only-of-type {\n",
              "        vertical-align: middle;\n",
              "    }\n",
              "\n",
              "    .dataframe tbody tr th {\n",
              "        vertical-align: top;\n",
              "    }\n",
              "\n",
              "    .dataframe thead th {\n",
              "        text-align: right;\n",
              "    }\n",
              "</style>\n",
              "<table border=\"1\" class=\"dataframe\">\n",
              "  <thead>\n",
              "    <tr style=\"text-align: right;\">\n",
              "      <th></th>\n",
              "      <th>sentiment_encoded</th>\n",
              "    </tr>\n",
              "  </thead>\n",
              "  <tbody>\n",
              "    <tr>\n",
              "      <th>0</th>\n",
              "      <td>1</td>\n",
              "    </tr>\n",
              "    <tr>\n",
              "      <th>1</th>\n",
              "      <td>1</td>\n",
              "    </tr>\n",
              "    <tr>\n",
              "      <th>2</th>\n",
              "      <td>1</td>\n",
              "    </tr>\n",
              "    <tr>\n",
              "      <th>3</th>\n",
              "      <td>0</td>\n",
              "    </tr>\n",
              "    <tr>\n",
              "      <th>4</th>\n",
              "      <td>1</td>\n",
              "    </tr>\n",
              "    <tr>\n",
              "      <th>...</th>\n",
              "      <td>...</td>\n",
              "    </tr>\n",
              "    <tr>\n",
              "      <th>104970</th>\n",
              "      <td>1</td>\n",
              "    </tr>\n",
              "    <tr>\n",
              "      <th>104971</th>\n",
              "      <td>1</td>\n",
              "    </tr>\n",
              "    <tr>\n",
              "      <th>104972</th>\n",
              "      <td>1</td>\n",
              "    </tr>\n",
              "    <tr>\n",
              "      <th>104973</th>\n",
              "      <td>1</td>\n",
              "    </tr>\n",
              "    <tr>\n",
              "      <th>104974</th>\n",
              "      <td>1</td>\n",
              "    </tr>\n",
              "  </tbody>\n",
              "</table>\n",
              "<p>104975 rows × 1 columns</p>\n",
              "</div>\n",
              "      <button class=\"colab-df-convert\" onclick=\"convertToInteractive('df-c1e8f87a-f365-49aa-a3d9-2dbf94a70e70')\"\n",
              "              title=\"Convert this dataframe to an interactive table.\"\n",
              "              style=\"display:none;\">\n",
              "\n",
              "  <svg xmlns=\"http://www.w3.org/2000/svg\" height=\"24px\"viewBox=\"0 0 24 24\"\n",
              "       width=\"24px\">\n",
              "    <path d=\"M0 0h24v24H0V0z\" fill=\"none\"/>\n",
              "    <path d=\"M18.56 5.44l.94 2.06.94-2.06 2.06-.94-2.06-.94-.94-2.06-.94 2.06-2.06.94zm-11 1L8.5 8.5l.94-2.06 2.06-.94-2.06-.94L8.5 2.5l-.94 2.06-2.06.94zm10 10l.94 2.06.94-2.06 2.06-.94-2.06-.94-.94-2.06-.94 2.06-2.06.94z\"/><path d=\"M17.41 7.96l-1.37-1.37c-.4-.4-.92-.59-1.43-.59-.52 0-1.04.2-1.43.59L10.3 9.45l-7.72 7.72c-.78.78-.78 2.05 0 2.83L4 21.41c.39.39.9.59 1.41.59.51 0 1.02-.2 1.41-.59l7.78-7.78 2.81-2.81c.8-.78.8-2.07 0-2.86zM5.41 20L4 18.59l7.72-7.72 1.47 1.35L5.41 20z\"/>\n",
              "  </svg>\n",
              "      </button>\n",
              "\n",
              "\n",
              "\n",
              "    <div id=\"df-52eee5ac-4dff-4e09-876b-9e6a2593a9b9\">\n",
              "      <button class=\"colab-df-quickchart\" onclick=\"quickchart('df-52eee5ac-4dff-4e09-876b-9e6a2593a9b9')\"\n",
              "              title=\"Suggest charts.\"\n",
              "              style=\"display:none;\">\n",
              "\n",
              "<svg xmlns=\"http://www.w3.org/2000/svg\" height=\"24px\"viewBox=\"0 0 24 24\"\n",
              "     width=\"24px\">\n",
              "    <g>\n",
              "        <path d=\"M19 3H5c-1.1 0-2 .9-2 2v14c0 1.1.9 2 2 2h14c1.1 0 2-.9 2-2V5c0-1.1-.9-2-2-2zM9 17H7v-7h2v7zm4 0h-2V7h2v10zm4 0h-2v-4h2v4z\"/>\n",
              "    </g>\n",
              "</svg>\n",
              "      </button>\n",
              "    </div>\n",
              "\n",
              "<style>\n",
              "  .colab-df-quickchart {\n",
              "    background-color: #E8F0FE;\n",
              "    border: none;\n",
              "    border-radius: 50%;\n",
              "    cursor: pointer;\n",
              "    display: none;\n",
              "    fill: #1967D2;\n",
              "    height: 32px;\n",
              "    padding: 0 0 0 0;\n",
              "    width: 32px;\n",
              "  }\n",
              "\n",
              "  .colab-df-quickchart:hover {\n",
              "    background-color: #E2EBFA;\n",
              "    box-shadow: 0px 1px 2px rgba(60, 64, 67, 0.3), 0px 1px 3px 1px rgba(60, 64, 67, 0.15);\n",
              "    fill: #174EA6;\n",
              "  }\n",
              "\n",
              "  [theme=dark] .colab-df-quickchart {\n",
              "    background-color: #3B4455;\n",
              "    fill: #D2E3FC;\n",
              "  }\n",
              "\n",
              "  [theme=dark] .colab-df-quickchart:hover {\n",
              "    background-color: #434B5C;\n",
              "    box-shadow: 0px 1px 3px 1px rgba(0, 0, 0, 0.15);\n",
              "    filter: drop-shadow(0px 1px 2px rgba(0, 0, 0, 0.3));\n",
              "    fill: #FFFFFF;\n",
              "  }\n",
              "</style>\n",
              "\n",
              "    <script>\n",
              "      async function quickchart(key) {\n",
              "        const containerElement = document.querySelector('#' + key);\n",
              "        const charts = await google.colab.kernel.invokeFunction(\n",
              "            'suggestCharts', [key], {});\n",
              "      }\n",
              "    </script>\n",
              "\n",
              "      <script>\n",
              "\n",
              "function displayQuickchartButton(domScope) {\n",
              "  let quickchartButtonEl =\n",
              "    domScope.querySelector('#df-52eee5ac-4dff-4e09-876b-9e6a2593a9b9 button.colab-df-quickchart');\n",
              "  quickchartButtonEl.style.display =\n",
              "    google.colab.kernel.accessAllowed ? 'block' : 'none';\n",
              "}\n",
              "\n",
              "        displayQuickchartButton(document);\n",
              "      </script>\n",
              "      <style>\n",
              "    .colab-df-container {\n",
              "      display:flex;\n",
              "      flex-wrap:wrap;\n",
              "      gap: 12px;\n",
              "    }\n",
              "\n",
              "    .colab-df-convert {\n",
              "      background-color: #E8F0FE;\n",
              "      border: none;\n",
              "      border-radius: 50%;\n",
              "      cursor: pointer;\n",
              "      display: none;\n",
              "      fill: #1967D2;\n",
              "      height: 32px;\n",
              "      padding: 0 0 0 0;\n",
              "      width: 32px;\n",
              "    }\n",
              "\n",
              "    .colab-df-convert:hover {\n",
              "      background-color: #E2EBFA;\n",
              "      box-shadow: 0px 1px 2px rgba(60, 64, 67, 0.3), 0px 1px 3px 1px rgba(60, 64, 67, 0.15);\n",
              "      fill: #174EA6;\n",
              "    }\n",
              "\n",
              "    [theme=dark] .colab-df-convert {\n",
              "      background-color: #3B4455;\n",
              "      fill: #D2E3FC;\n",
              "    }\n",
              "\n",
              "    [theme=dark] .colab-df-convert:hover {\n",
              "      background-color: #434B5C;\n",
              "      box-shadow: 0px 1px 3px 1px rgba(0, 0, 0, 0.15);\n",
              "      filter: drop-shadow(0px 1px 2px rgba(0, 0, 0, 0.3));\n",
              "      fill: #FFFFFF;\n",
              "    }\n",
              "  </style>\n",
              "\n",
              "      <script>\n",
              "        const buttonEl =\n",
              "          document.querySelector('#df-c1e8f87a-f365-49aa-a3d9-2dbf94a70e70 button.colab-df-convert');\n",
              "        buttonEl.style.display =\n",
              "          google.colab.kernel.accessAllowed ? 'block' : 'none';\n",
              "\n",
              "        async function convertToInteractive(key) {\n",
              "          const element = document.querySelector('#df-c1e8f87a-f365-49aa-a3d9-2dbf94a70e70');\n",
              "          const dataTable =\n",
              "            await google.colab.kernel.invokeFunction('convertToInteractive',\n",
              "                                                     [key], {});\n",
              "          if (!dataTable) return;\n",
              "\n",
              "          const docLinkHtml = 'Like what you see? Visit the ' +\n",
              "            '<a target=\"_blank\" href=https://colab.research.google.com/notebooks/data_table.ipynb>data table notebook</a>'\n",
              "            + ' to learn more about interactive tables.';\n",
              "          element.innerHTML = '';\n",
              "          dataTable['output_type'] = 'display_data';\n",
              "          await google.colab.output.renderOutput(dataTable, element);\n",
              "          const docLink = document.createElement('div');\n",
              "          docLink.innerHTML = docLinkHtml;\n",
              "          element.appendChild(docLink);\n",
              "        }\n",
              "      </script>\n",
              "    </div>\n",
              "  </div>\n"
            ]
          },
          "metadata": {},
          "execution_count": 11
        }
      ],
      "source": [
        "y_df"
      ]
    },
    {
      "cell_type": "code",
      "execution_count": 12,
      "metadata": {
        "id": "0bR-1IHF6dZn"
      },
      "outputs": [],
      "source": [
        "X_train, X_test, y_train, y_test = train_test_split(X, y, test_size=0.20, random_state=42)"
      ]
    },
    {
      "cell_type": "markdown",
      "source": [
        "# #CNN LSTM MODEL"
      ],
      "metadata": {
        "id": "ePD1pS32UpRK"
      }
    },
    {
      "cell_type": "code",
      "source": [
        "# Initialize\n",
        "tokenizer = tf.keras.preprocessing.text.Tokenizer()\n",
        "\n",
        "tokenizer.fit_on_texts(X_train)\n",
        "\n",
        "Xt_seq = tokenizer.texts_to_sequences(X_train)\n",
        "\n",
        "Xte_seq = tokenizer.texts_to_sequences(X_test)\n",
        "max_length = max(len(seq) for seq in Xt_seq)\n",
        "\n",
        "# Calculate the vocabulary size\n",
        "v_s = len(tokenizer.word_index) + 1\n",
        "\n",
        "# Pad sequences to have the same length\n",
        "Xtp = pad_sequences(Xt_seq, maxlen=max_length)\n",
        "X_test_padded = pad_sequences(Xte_seq, maxlen=max_length)\n",
        "\n",
        "# Set the dimensionality of the embedding\n",
        "embedding_dim = 128\n"
      ],
      "metadata": {
        "id": "NL_MWishxaa7"
      },
      "execution_count": 13,
      "outputs": []
    },
    {
      "cell_type": "code",
      "source": [
        "# make a object of LabelEncoder\n",
        "lbl_en = LabelEncoder()\n",
        "yt_en = lbl_en.fit_transform(y_train)\n",
        "yte_en = lbl_en.transform(y_test)\n",
        "# Convert the target variable to float\n",
        "y_train = yt_en.astype(float)\n",
        "y_test = yte_en.astype(float)"
      ],
      "metadata": {
        "id": "-hwVKoACxlwL"
      },
      "execution_count": 14,
      "outputs": []
    },
    {
      "cell_type": "code",
      "source": [
        "# Importing the necessary library for building a sequential model\n",
        "model = Sequential()\n",
        "\n",
        "# Add an Embedding layer to capture semantic relationships and contextual information between words.\n",
        "model.add(Embedding(input_dim=v_s, output_dim=embedding_dim, input_length=max_length))\n",
        "\n",
        "# Adding a 1D Convolutional layer with ReLU activation\n",
        "model.add(Conv1D(filters=64, kernel_size=5, activation='relu'))\n",
        "\n",
        "# Adding a MaxPooling layer to reduce dimensionality by selecting the maximum value from neighboring elements.\n",
        "model.add(MaxPooling1D(pool_size=2))\n",
        "\n",
        "# Adding an LSTM (Long Short-Term Memory) layer to capture sequential dependencies in the data.\n",
        "model.add(LSTM(units=64))\n",
        "\n",
        "# Adding a Dense  non-linearity.\n",
        "model.add(Dense(units=64, activation='relu'))\n",
        "\n",
        "# Adding a Dropout layer to mitigate overfitting by randomly deactivating 50% of neurons during training.\n",
        "model.add(Dropout(0.5))\n",
        "model.add(Dense(units=1, activation='sigmoid'))\n",
        "\n",
        "# Setting up the Adam optimizer with a learning rate of 0.001.\n",
        "opt = Adam(learning_rate=0.001)\n",
        "\n",
        "# Compiling\n",
        "model.compile(loss='binary_crossentropy', optimizer=opt, metrics=['accuracy'])\n"
      ],
      "metadata": {
        "id": "8KDR_dP0iESp"
      },
      "execution_count": 15,
      "outputs": []
    },
    {
      "cell_type": "code",
      "execution_count": 16,
      "metadata": {
        "colab": {
          "base_uri": "https://localhost:8080/"
        },
        "id": "ZGQ41-KF6SlF",
        "outputId": "b7745d6a-f706-477b-c740-b19141a0bbe7",
        "collapsed": true
      },
      "outputs": [
        {
          "output_type": "stream",
          "name": "stdout",
          "text": [
            "Model: \"sequential\"\n",
            "_________________________________________________________________\n",
            " Layer (type)                Output Shape              Param #   \n",
            "=================================================================\n",
            " embedding (Embedding)       (None, 1492, 128)         5932800   \n",
            "                                                                 \n",
            " conv1d (Conv1D)             (None, 1488, 64)          41024     \n",
            "                                                                 \n",
            " max_pooling1d (MaxPooling1D  (None, 744, 64)          0         \n",
            " )                                                               \n",
            "                                                                 \n",
            " lstm (LSTM)                 (None, 64)                33024     \n",
            "                                                                 \n",
            " dense (Dense)               (None, 64)                4160      \n",
            "                                                                 \n",
            " dropout (Dropout)           (None, 64)                0         \n",
            "                                                                 \n",
            " dense_1 (Dense)             (None, 1)                 65        \n",
            "                                                                 \n",
            "=================================================================\n",
            "Total params: 6,011,073\n",
            "Trainable params: 6,011,073\n",
            "Non-trainable params: 0\n",
            "_________________________________________________________________\n"
          ]
        }
      ],
      "source": [
        "model.summary()"
      ]
    },
    {
      "cell_type": "code",
      "execution_count": 17,
      "metadata": {
        "colab": {
          "base_uri": "https://localhost:8080/"
        },
        "id": "CZBPpB_069fm",
        "outputId": "781cb0b9-61d2-4037-f3d6-7ee5918d2745",
        "collapsed": true
      },
      "outputs": [
        {
          "output_type": "stream",
          "name": "stdout",
          "text": [
            "Epoch 1/5\n",
            "165/165 [==============================] - 61s 282ms/step - loss: 0.2860 - accuracy: 0.8864 - val_loss: 0.1279 - val_accuracy: 0.9486\n",
            "Epoch 2/5\n",
            "165/165 [==============================] - 41s 247ms/step - loss: 0.0722 - accuracy: 0.9741 - val_loss: 0.0909 - val_accuracy: 0.9677\n",
            "Epoch 3/5\n",
            "165/165 [==============================] - 38s 228ms/step - loss: 0.0355 - accuracy: 0.9876 - val_loss: 0.0894 - val_accuracy: 0.9686\n",
            "Epoch 4/5\n",
            "165/165 [==============================] - 36s 217ms/step - loss: 0.0200 - accuracy: 0.9934 - val_loss: 0.1070 - val_accuracy: 0.9668\n",
            "Epoch 5/5\n",
            "165/165 [==============================] - 34s 206ms/step - loss: 0.0118 - accuracy: 0.9964 - val_loss: 0.1376 - val_accuracy: 0.9671\n"
          ]
        }
      ],
      "source": [
        "history=model.fit(Xtp, y_train, batch_size=512, epochs=5, validation_data=(X_test_padded, y_test))"
      ]
    },
    {
      "cell_type": "code",
      "execution_count": 20,
      "metadata": {
        "id": "rZVrTeWi_oUH",
        "colab": {
          "base_uri": "https://localhost:8080/",
          "height": 492
        },
        "outputId": "a3f3eee1-cc1f-440e-9626-30d5cd348613"
      },
      "outputs": [
        {
          "output_type": "display_data",
          "data": {
            "text/plain": [
              "<Figure size 2000x600 with 2 Axes>"
            ],
            "image/png": "[encoded data removed]"
          },
          "metadata": {}
        }
      ],
      "source": [
        "#accuracy is stored in a variable acc\n",
        "acc = history.history['accuracy']\n",
        "#validation accuracy is stored inval_accuracy\n",
        "v_acc = history.history['val_accuracy']\n",
        "#loss in model\n",
        "loss = history.history['loss']\n",
        "#validation loss is stored in val_loss\n",
        "val_loss = history.history['val_loss']\n",
        "# number of iterations\n",
        "epochs_range = range(5)\n",
        "py.figure(figsize=(20, 6))\n",
        "py.subplot(1, 2, 1)  # One row, two columns, first subplot\n",
        " # One row, two columns, first subplot\n",
        "py.plot(epochs_range, acc, label='Training')\n",
        "#plotting  agter data is cleaned\n",
        "py.plot(epochs_range, v_acc, label='Validation')\n",
        "#displaying epochs on x label\n",
        "py.xlabel('Epochs')\n",
        "#displaying accuracy on y labels\n",
        "py.ylabel('Accuracy')\n",
        "#legend provide information related to curve at a particular location\n",
        "py.legend(loc='lower right')\n",
        "py.title('History of Accuracy')\n",
        "py.subplot(1, 2, 2)  # One row, two columns, second subplot\n",
        "py.plot(epochs_range, loss, label='Training')\n",
        "py.plot(epochs_range, val_loss, label='Validation')\n",
        "#setting a label for x\n",
        "py.xlabel('Epochs')\n",
        "#setting a label for y\n",
        "py.ylabel('Loss')\n",
        "#provide meaning to the visualization\n",
        "py.legend(loc='upper right')\n",
        "#name of the plot\n",
        "py.title('History of Loss')\n",
        "#display the plot\n",
        "py.show()"
      ]
    },
    {
      "cell_type": "markdown",
      "source": [
        "#TESTING RESULTS"
      ],
      "metadata": {
        "id": "BY1jhrjNf30C"
      }
    },
    {
      "cell_type": "code",
      "source": [
        "model.evaluate(X_test_padded, y_test)"
      ],
      "metadata": {
        "colab": {
          "base_uri": "https://localhost:8080/"
        },
        "id": "PpXpUw0dfk7c",
        "outputId": "d659361c-9f4c-4381-d5de-0cd44be4956a",
        "collapsed": true
      },
      "execution_count": 21,
      "outputs": [
        {
          "output_type": "stream",
          "name": "stdout",
          "text": [
            "657/657 [==============================] - 8s 12ms/step - loss: 0.1376 - accuracy: 0.9671\n"
          ]
        },
        {
          "output_type": "execute_result",
          "data": {
            "text/plain": [
              "[0.1375938057899475, 0.9671350121498108]"
            ]
          },
          "metadata": {},
          "execution_count": 21
        }
      ]
    },
    {
      "cell_type": "code",
      "source": [
        "# applying predictions on  testing set\n",
        "y_pd = model.predict(X_test_padded)\n",
        "y_pd_labels = (y_pd > 0.5).astype(int)\n",
        "# Convert the true labels to integers (in case they are in float format)\n",
        "y_test_int = y_test.astype(int)\n",
        "acc = accuracy_score(y_pd_labels, y_test_int)"
      ],
      "metadata": {
        "colab": {
          "base_uri": "https://localhost:8080/"
        },
        "id": "AXmD9XmP9o6S",
        "outputId": "315ba948-c5e7-4213-d20d-0f4526d6f65d",
        "collapsed": true
      },
      "execution_count": 22,
      "outputs": [
        {
          "output_type": "stream",
          "name": "stdout",
          "text": [
            "657/657 [==============================] - 8s 11ms/step\n"
          ]
        }
      ]
    },
    {
      "cell_type": "code",
      "source": [
        "cm = confusion_matrix(y_test_int, y_pd_labels)\n",
        "tn, fp, fn, tp = cm.ravel()\n",
        "specificity = tn / (tn + fp)\n",
        "misclassification_rate = (fp + fn) / (tn + fp + fn + tp)"
      ],
      "metadata": {
        "id": "A75xxP3HjVDA"
      },
      "execution_count": 23,
      "outputs": []
    },
    {
      "cell_type": "code",
      "source": [
        "print(\"Testing accuracy of CNN LSTM:\", acc)\n",
        "precio = precision_score(y_pd_labels, y_test_int)\n",
        "print(\"Testing precision of CNN LSTM:\", precio)\n",
        "recallsc = recall_score(y_pd_labels, y_test_int)\n",
        "print(\"Testing recall score of CNN LSTM:\", recallsc)\n",
        "f1sc = f1_score(y_pd_labels, y_test_int)\n",
        "# Print the F1 score of the model on the testing set\n",
        "print(\"Testing F1_score of CNN LSTM:\", f1sc)\n",
        "print(\"Testing Specificity of LSTM:\", specificity)\n",
        "print(\"Testing Misclassification Rate of LSTM:\", misclassification_rate)\n"
      ],
      "metadata": {
        "colab": {
          "base_uri": "https://localhost:8080/"
        },
        "id": "nXA3wRvoilq5",
        "outputId": "04558377-fdb7-4e0a-b17f-373c3d89872d",
        "collapsed": true
      },
      "execution_count": 24,
      "outputs": [
        {
          "output_type": "stream",
          "name": "stdout",
          "text": [
            "Testing accuracy of CNN LSTM: 0.967135032150512\n",
            "Testing precision of CNN LSTM: 0.9889531521110468\n",
            "Testing recall score of CNN LSTM: 0.9716445050573929\n",
            "Testing F1_score of CNN LSTM: 0.9802224260490714\n",
            "Testing Specificity of LSTM: 0.8653171390013495\n",
            "Testing Misclassification Rate of LSTM: 0.032864967849487975\n"
          ]
        }
      ]
    },
    {
      "cell_type": "code",
      "source": [
        "cm = confusion_matrix(y_test_int, y_pd_labels)\n",
        "# Compute and show the classification report\n",
        "report = classification_report(y_test_int, y_pd_labels)\n",
        "print(\"Classification Report of testing data:\")\n",
        "print(report)"
      ],
      "metadata": {
        "id": "v4nGpZnpq5ex",
        "colab": {
          "base_uri": "https://localhost:8080/"
        },
        "outputId": "d162f35b-46ee-46da-bf96-018c5314e1b0",
        "collapsed": true
      },
      "execution_count": 25,
      "outputs": [
        {
          "output_type": "stream",
          "name": "stdout",
          "text": [
            "Classification Report of testing data:\n",
            "              precision    recall  f1-score   support\n",
            "\n",
            "           0       0.94      0.87      0.90      3705\n",
            "           1       0.97      0.99      0.98     17290\n",
            "\n",
            "    accuracy                           0.97     20995\n",
            "   macro avg       0.96      0.93      0.94     20995\n",
            "weighted avg       0.97      0.97      0.97     20995\n",
            "\n"
          ]
        }
      ]
    },
    {
      "cell_type": "code",
      "execution_count": 26,
      "metadata": {
        "id": "RcSCz8QB_GEk",
        "colab": {
          "base_uri": "https://localhost:8080/",
          "height": 564
        },
        "outputId": "8a5d99f9-9266-4ebb-9863-def925a08a51"
      },
      "outputs": [
        {
          "output_type": "display_data",
          "data": {
            "text/plain": [
              "<Figure size 600x600 with 1 Axes>"
            ],
            "image/png": "[encoded data removed]"
          },
          "metadata": {}
        }
      ],
      "source": [
        "# Plot the confusion matrix\n",
        "#contains all the elements to plot the graph\n",
        "py.figure(figsize=(6, 6))\n",
        "#demonstrating the relationship between variables, including time\n",
        "sns.heatmap(cm, annot=True, fmt='d', cmap='Blues', cbar=False)\n",
        "#A figure's axis labels can be added, and their text characteristics can be changed\n",
        "py.xlabel('Predicted Labels')\n",
        "#Customise the axis labels' text characteristics by adding them to a figure.\n",
        "py.ylabel('True Labels')\n",
        "py.title('Confusion Matrix of testing')\n",
        "#display of the matrix\n",
        "py.show()\n"
      ]
    },
    {
      "cell_type": "markdown",
      "source": [
        "To measure the efficacy of a machine learning model, especially a Multinomial Naive Bayesian classifier, this code implements the ROC curve. The ROC curve demonstrates the model's ability to discriminate across groups.\n",
        "This is what each component does:\n",
        "The ROC curve's FPR, TPR, and threshold values are all derived from the model's assumptions and the actual labels.\n",
        "The ROC curve's area under the curve (AUC) is determined. The AUC tells us how well the model generally performs, with a larger number indicating greater performance.\n",
        "A plot (graph) of the ROC curve is generated by the code. On the graph, the curve appears as a straight line. The AUC score is shown as the area under the orange line, which shows the performance of the model.\n",
        "A blue dashed line is drawn at a 45 degree angle, going from the lower left to the upper right. The results of a completely arbitrary classifier are shown below.\n"
      ],
      "metadata": {
        "id": "Oc0aWVPnTNTw"
      }
    },
    {
      "cell_type": "code",
      "source": [
        "#The threshold values are discarded and these values are transferred to the variables fpr and tpr, respectively.\n",
        "fpr, tpr, thresholds = roc_curve(y_test_int, y_pd_labels)\n",
        "#determines the AUC\n",
        "roc_auc = auc(fpr, tpr)\n",
        "#rounded to four decimal places, labelling the curve with the Multinomial Naive Bayes' ROC AUC score.\n",
        "py.figure()\n",
        "#required data\n",
        "py.plot(fpr, tpr, color='darkorange', lw=2, label='ROC curve (area = %0.2f)' % roc_auc)\n",
        "#lines to display\n",
        "py.plot([0, 1], [0, 1], color='navy', lw=2, linestyle='--')\n",
        "#x and y limits\n",
        "py.xlim([0.0, 1.0])\n",
        "py.ylim([0.0, 1.05])\n",
        "#set the label for the x axis specifying the positive label for the binary classification\n",
        "py.xlabel('False Positive Rate')\n",
        "#set the label for the y axis specifying the positive label for the binary classification\n",
        "py.ylabel('True Positive Rate')\n",
        "py.title('Receiver Operating Characteristic (ROC) Curve(testing)')\n",
        "py.legend(loc=\"lower right\")\n",
        "#displaying the respective graph\n",
        "py.show()\n"
      ],
      "metadata": {
        "id": "iOvqtsp1-oct",
        "colab": {
          "base_uri": "https://localhost:8080/",
          "height": 472
        },
        "outputId": "7bb067a6-71f2-4b08-ec92-45b7b8ca3547"
      },
      "execution_count": 27,
      "outputs": [
        {
          "output_type": "display_data",
          "data": {
            "text/plain": [
              "<Figure size 640x480 with 1 Axes>"
            ],
            "image/png": "[encoded data removed]"
          },
          "metadata": {}
        }
      ]
    },
    {
      "cell_type": "markdown",
      "source": [
        "# TRAINING RESULTS"
      ],
      "metadata": {
        "id": "cIiGW7f9scIw"
      }
    },
    {
      "cell_type": "code",
      "execution_count": 28,
      "metadata": {
        "id": "d6RAhjSFeiuI",
        "colab": {
          "base_uri": "https://localhost:8080/"
        },
        "outputId": "40310002-b5e1-403a-f00d-52686957975e",
        "collapsed": true
      },
      "outputs": [
        {
          "output_type": "stream",
          "name": "stdout",
          "text": [
            "2625/2625 [==============================] - 30s 12ms/step - loss: 0.0055 - accuracy: 0.9983\n"
          ]
        },
        {
          "output_type": "execute_result",
          "data": {
            "text/plain": [
              "[0.005538244266062975, 0.9983091354370117]"
            ]
          },
          "metadata": {},
          "execution_count": 28
        }
      ],
      "source": [
        "model.evaluate(Xtp, y_train)"
      ]
    },
    {
      "cell_type": "code",
      "execution_count": 29,
      "metadata": {
        "id": "3pLoYkMJS3Yw",
        "colab": {
          "base_uri": "https://localhost:8080/"
        },
        "outputId": "6dc103c0-d646-4dbd-ea0f-72dd691cb8b7",
        "collapsed": true
      },
      "outputs": [
        {
          "output_type": "stream",
          "name": "stdout",
          "text": [
            "2625/2625 [==============================] - 27s 10ms/step\n"
          ]
        }
      ],
      "source": [
        "# Make predictions on the training set using the trained model\n",
        "y_pd = model.predict(Xtp)\n",
        "\n",
        "# Conversion of projected probabiliy to binary class labels using\n",
        "y_pd_labels = (y_pd > 0.5).astype(int)\n",
        "\n",
        "# Convert the true labels to integers (in case they are in float format)\n",
        "y_train_int = y_train.astype(int)\n",
        "cm = confusion_matrix(y_train_int, y_pd_labels)\n",
        "tn, fp, fn, tp = cm.ravel()\n",
        "specificity = tn / (tn + fp)\n",
        "misclassification_rate = (fp + fn) / (tn + fp + fn + tp)"
      ]
    },
    {
      "cell_type": "code",
      "source": [
        "acc = accuracy_score(y_pd_labels, y_train_int)\n",
        "print(\"Training accuracy of CNN LSTM:\", acc)\n",
        "# Calculate and print  precision\n",
        "precio = precision_score(y_pd_labels, y_train_int)\n",
        "print(\"Training precision of CNN LSTM:\", precio)\n",
        "# Calculate and print the recall\n",
        "recallsc = recall_score(y_pd_labels, y_train_int)\n",
        "print(\"Training recall score of CNN LSTM:\", recallsc)\n",
        "# Calculate and print the F1\n",
        "f1sc = f1_score(y_pd_labels, y_train_int)\n",
        "print(\"Training F1_score of CNN LSTM:\", f1sc)\n",
        "print(\"Training Specificity of CNN LSTM:\", specificity)\n",
        "print(\"Training Misclassification Rate of CNN LSTM:\", misclassification_rate)\n"
      ],
      "metadata": {
        "id": "xyh7JV46pivH",
        "colab": {
          "base_uri": "https://localhost:8080/"
        },
        "outputId": "43271e35-6bbf-48c1-eace-3ee289b28696"
      },
      "execution_count": 30,
      "outputs": [
        {
          "output_type": "stream",
          "name": "stdout",
          "text": [
            "Training accuracy of CNN LSTM: 0.9983091212193379\n",
            "Training precision of CNN LSTM: 0.9995948194776065\n",
            "Training recall score of CNN LSTM: 0.9983523868711248\n",
            "Training F1_score of CNN LSTM: 0.9989732168681668\n",
            "Training Specificity of CNN LSTM: 0.9923361344537815\n",
            "Training Misclassification Rate of CNN LSTM: 0.0016908787806620624\n"
          ]
        }
      ]
    },
    {
      "cell_type": "code",
      "source": [
        "cm = confusion_matrix(y_train_int, y_pd_labels)\n",
        "# Create the classification report\n",
        "report = classification_report(y_train_int, y_pd_labels)\n",
        "print(\"Classification Report of training data:\")\n",
        "print(report)"
      ],
      "metadata": {
        "id": "DsMdM-cKNGSg",
        "colab": {
          "base_uri": "https://localhost:8080/"
        },
        "outputId": "16bd3530-d8e1-4926-ee8a-f6c6fbdd2316"
      },
      "execution_count": 31,
      "outputs": [
        {
          "output_type": "stream",
          "name": "stdout",
          "text": [
            "Classification Report of training data:\n",
            "              precision    recall  f1-score   support\n",
            "\n",
            "           0       1.00      0.99      1.00     14875\n",
            "           1       1.00      1.00      1.00     69105\n",
            "\n",
            "    accuracy                           1.00     83980\n",
            "   macro avg       1.00      1.00      1.00     83980\n",
            "weighted avg       1.00      1.00      1.00     83980\n",
            "\n"
          ]
        }
      ]
    },
    {
      "cell_type": "code",
      "source": [
        "# Plot the confusion matrix\n",
        "#contains all the elements to plot the graph\n",
        "py.figure(figsize=(6, 6))\n",
        "#demonstrating the relationship between variables, including time\n",
        "sns.heatmap(cm, annot=True, fmt='d', cmap='Blues', cbar=False)\n",
        "#A figure's axis labels can be added, and their text characteristics can be changed\n",
        "py.xlabel('Predicted Labels')\n",
        "#Customise the axis labels' text characteristics by adding them to a figure.\n",
        "py.ylabel('True Labels')\n",
        "py.title('Confusion Matrix for training')\n",
        "#display of the matrix for training\n",
        "py.show()"
      ],
      "metadata": {
        "id": "pt0jFRiV54VK",
        "colab": {
          "base_uri": "https://localhost:8080/",
          "height": 564
        },
        "outputId": "91810c93-d57d-4b94-f5fc-407edf2e7c7c"
      },
      "execution_count": 32,
      "outputs": [
        {
          "output_type": "display_data",
          "data": {
            "text/plain": [
              "<Figure size 600x600 with 1 Axes>"
            ],
            "image/png": "[encoded data removed]"
          },
          "metadata": {}
        }
      ]
    },
    {
      "cell_type": "markdown",
      "source": [
        "The x-axis displays the number of false positives (FPR), which is the percentage of false positive predictions relative to the total number of true negatives.\n",
        "The percentage of accurate positive predictions relative to the total number of positives (the True Positive Rate, or TPR) is shown along the y-axis.\n",
        "The graph is made more understandable by adding labels and a heading.\n",
        "The ROC curve for the Multinomial Naive Bayesian model is then shown, illustrating the model's performance.\n",
        "In layman's words, this code plots a curve to show how effectively a given model differentiates across classes. How well a model predicts outcomes is shown by its geometry and the area under the curve. We can see how well the model does compared to a guess using the graph."
      ],
      "metadata": {
        "id": "--7OdvdyThrp"
      }
    },
    {
      "cell_type": "code",
      "source": [
        "#while ignoring the threshold values, assign these values to the variables fpr and tpr, respectively.\n",
        "#The threshold values are discarded and these values are transferred to the variables fpr and tpr, respectively.\n",
        "fpr, tpr, thresholds = roc_curve(y_train_int, y_pd_labels)\n",
        "#determines the AUC (Area Under the ROC Curve)\n",
        "roc_auc = auc(fpr, tpr)\n",
        "#rounded to four decimal places, labelling the curve with the Multinomial Naive Bayes' ROC AUC score.\n",
        "py.figure()\n",
        "py.plot(fpr, tpr, color='darkorange', lw=2, label='ROC curve (area = %0.2f)' % roc_auc)\n",
        "#required information for plotting graph\n",
        "py.plot([0, 1], [0, 1], color='navy', lw=2, linestyle='--')\n",
        "#writing limits for x and y\n",
        "py.xlim([0.0, 1.0])\n",
        "py.ylim([0.0, 1.05])\n",
        "#set the positive label for the binary classification\n",
        "py.xlabel('False Positive Rate')\n",
        "#positive label for the binary classification\n",
        "py.ylabel('True Positive Rate')\n",
        "#title of the graph\n",
        "py.title('Receiver Operating Characteristic (ROC) Curve (training)')\n",
        "py.legend(loc=\"lower right\")\n",
        "#display the plotted roc curve\n",
        "py.show()"
      ],
      "metadata": {
        "id": "uxGqey689CZa",
        "colab": {
          "base_uri": "https://localhost:8080/",
          "height": 472
        },
        "outputId": "73504f5c-75e5-407a-aa36-c8691e4ff5e4"
      },
      "execution_count": 33,
      "outputs": [
        {
          "output_type": "display_data",
          "data": {
            "text/plain": [
              "<Figure size 640x480 with 1 Axes>"
            ],
            "image/png": "[encoded data removed]"
          },
          "metadata": {}
        }
      ]
    }
  ],
  "metadata": {
    "accelerator": "GPU",
    "colab": {
      "machine_shape": "hm",
      "provenance": [],
      "gpuType": "T4"
    },
    "kernelspec": {
      "display_name": "Python 3",
      "name": "python3"
    },
    "language_info": {
      "name": "python"
    }
  },
  "nbformat": 4,
  "nbformat_minor": 0
}